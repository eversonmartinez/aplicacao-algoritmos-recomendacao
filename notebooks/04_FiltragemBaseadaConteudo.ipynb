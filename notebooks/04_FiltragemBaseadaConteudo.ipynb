{
 "cells": [
  {
   "cell_type": "markdown",
   "id": "10602c12-15cb-49b8-9545-9f9d620c4546",
   "metadata": {},
   "source": [
    "## Importação de Bibliotecas Utilizadas"
   ]
  },
  {
   "cell_type": "code",
   "execution_count": null,
   "id": "71b76f2e-a493-4359-9961-984d8f59dc89",
   "metadata": {},
   "outputs": [],
   "source": [
    "#Importação de bibliotecas necessárias \n",
    "import pandas as pd\n",
    "import numpy as np\n",
    "import re \n",
    "import os\n",
    "import nltk\n",
    "from nltk.corpus import stopwords\n",
    "from sklearn.metrics.pairwise import linear_kernel\n",
    "from sklearn.feature_extraction.text import CountVectorizer\n",
    "from sklearn.feature_extraction.text import TfidfVectorizer\n",
    "from sklearn.neighbors import NearestNeighbors\n",
    "import matplotlib.pyplot as plt"
   ]
  },
  {
   "cell_type": "markdown",
   "id": "0a2dfa26-ae01-4f6e-a967-247cbea5419a",
   "metadata": {},
   "source": [
    "## Variáveis / Constantes"
   ]
  },
  {
   "cell_type": "code",
   "execution_count": null,
   "id": "a6f14fcf-d246-4fda-8926-4eea100c6c27",
   "metadata": {},
   "outputs": [],
   "source": [
    "# Pasta de entrada para arquivos tratados\n",
    "input_path = \"../data/datasets_pos_tratamento\"\n",
    "\n",
    "#caminho/nomeDoArquivo\n",
    "fileMeta = os.path.join(input_path, \"meta_tratados.parquet\")"
   ]
  },
  {
   "cell_type": "markdown",
   "id": "32edf57b-e59b-4ca1-84b0-928ce2edd67e",
   "metadata": {
    "jp-MarkdownHeadingCollapsed": true
   },
   "source": [
    "## Leitura e verificação dos Datasets (Análise Exploratória)"
   ]
  },
  {
   "cell_type": "code",
   "execution_count": 3,
   "id": "bdac2242-0d0c-422b-8ee1-7f6e2220ccb9",
   "metadata": {},
   "outputs": [
    {
     "name": "stdout",
     "output_type": "stream",
     "text": [
      "Index(['IDENTIFICADOR', 'TITULO', 'MEDIA_VOTOS', 'QTD_AVALIACOES',\n",
      "       'CARACTERISTICAS', 'DESCRICAO', 'PRECO', 'LOJA', 'DETALHES',\n",
      "       'CATEGORIAS'],\n",
      "      dtype='object')\n"
     ]
    }
   ],
   "source": [
    "#Leitura de dataset 2 (Informações)\n",
    "\n",
    "dfMeta = pd.read_parquet(fileMeta, engine=\"pyarrow\")\n",
    "#headers das colunas\n",
    "print(dfMeta.columns) \n",
    "\n",
    "#tamanho (linhas, colunas)\n",
    "dfMeta.shape\n",
    "numberColumnsMeta = dfMeta.shape[1]"
   ]
  },
  {
   "cell_type": "code",
   "execution_count": 4,
   "id": "ac3c7938-f2ce-46a9-a024-7db46ad163e3",
   "metadata": {
    "scrolled": true
   },
   "outputs": [
    {
     "data": {
      "text/html": [
       "<div>\n",
       "<style scoped>\n",
       "    .dataframe tbody tr th:only-of-type {\n",
       "        vertical-align: middle;\n",
       "    }\n",
       "\n",
       "    .dataframe tbody tr th {\n",
       "        vertical-align: top;\n",
       "    }\n",
       "\n",
       "    .dataframe thead th {\n",
       "        text-align: right;\n",
       "    }\n",
       "</style>\n",
       "<table border=\"1\" class=\"dataframe\">\n",
       "  <thead>\n",
       "    <tr style=\"text-align: right;\">\n",
       "      <th></th>\n",
       "      <th>IDENTIFICADOR</th>\n",
       "      <th>TITULO</th>\n",
       "      <th>MEDIA_VOTOS</th>\n",
       "      <th>QTD_AVALIACOES</th>\n",
       "      <th>CARACTERISTICAS</th>\n",
       "      <th>DESCRICAO</th>\n",
       "      <th>PRECO</th>\n",
       "      <th>LOJA</th>\n",
       "      <th>DETALHES</th>\n",
       "      <th>CATEGORIAS</th>\n",
       "    </tr>\n",
       "  </thead>\n",
       "  <tbody>\n",
       "    <tr>\n",
       "      <th>52011</th>\n",
       "      <td>B08V9799ZG</td>\n",
       "      <td>Electric Can Opener, Restaurant Can Opener, Fu...</td>\n",
       "      <td>2.7</td>\n",
       "      <td>23</td>\n",
       "      <td></td>\n",
       "      <td></td>\n",
       "      <td>15.040000</td>\n",
       "      <td>W-Dragon</td>\n",
       "      <td>Date First Available, Color, Material, Brand, ...</td>\n",
       "      <td>Home &amp; Kitchen, Kitchen &amp; Dining, Kitchen Uten...</td>\n",
       "    </tr>\n",
       "    <tr>\n",
       "      <th>67694</th>\n",
       "      <td>B09JGJ7D1S</td>\n",
       "      <td>PAPAISON Roller Skates for Women and Men, Delu...</td>\n",
       "      <td>4.6</td>\n",
       "      <td>720</td>\n",
       "      <td>【RETRO STYLE 】 Classic high top double-row rol...</td>\n",
       "      <td></td>\n",
       "      <td>79.989998</td>\n",
       "      <td>PAPAISON</td>\n",
       "      <td>Size, Color, Brand, Wheel Material, Wheel Type...</td>\n",
       "      <td>Sports &amp; Outdoors, Sports, Skates, Skateboards...</td>\n",
       "    </tr>\n",
       "    <tr>\n",
       "      <th>3050</th>\n",
       "      <td>B06XB6LF6Y</td>\n",
       "      <td>Dewhel Sport Front Bumper Tow Hook License Pla...</td>\n",
       "      <td>3.4</td>\n",
       "      <td>166</td>\n",
       "      <td>High quality aluminum Tow hook License Plate,B...</td>\n",
       "      <td>Tow Hook License Plate Fitments:2000-2009 Hond...</td>\n",
       "      <td>20.990000</td>\n",
       "      <td>DEWHEL</td>\n",
       "      <td>Manufacturer, Brand, Item Weight, Package Dime...</td>\n",
       "      <td>Automotive, Exterior Accessories, License Plat...</td>\n",
       "    </tr>\n",
       "    <tr>\n",
       "      <th>66635</th>\n",
       "      <td>B07RSM5PRD</td>\n",
       "      <td>JR Studio 3x5 inch Yellow Combat Vet Tab Shape...</td>\n",
       "      <td>4.2</td>\n",
       "      <td>13</td>\n",
       "      <td>Size: Check Item title - Professionally made i...</td>\n",
       "      <td></td>\n",
       "      <td>4.990000</td>\n",
       "      <td>JR Studio</td>\n",
       "      <td>Brand, Color, Room Type, Recommended Uses For ...</td>\n",
       "      <td>Sports &amp; Outdoors, Fan Shop, Auto Accessories,...</td>\n",
       "    </tr>\n",
       "    <tr>\n",
       "      <th>64560</th>\n",
       "      <td>B08KXF2S4V</td>\n",
       "      <td>Horsemen's Pride Horse Feed Tub, Small, 18 Qua...</td>\n",
       "      <td>4.4</td>\n",
       "      <td>36</td>\n",
       "      <td>This small/mini feed tub measures 14 inches ac...</td>\n",
       "      <td>The Small Feed Tub measures 14 inches across (...</td>\n",
       "      <td>32.590000</td>\n",
       "      <td>Jolly Pets</td>\n",
       "      <td>Product Dimensions, Item model number, Date Fi...</td>\n",
       "      <td>Pet Supplies, Horses, Stable Supplies, Feeding...</td>\n",
       "    </tr>\n",
       "  </tbody>\n",
       "</table>\n",
       "</div>"
      ],
      "text/plain": [
       "      IDENTIFICADOR                                             TITULO  \\\n",
       "52011    B08V9799ZG  Electric Can Opener, Restaurant Can Opener, Fu...   \n",
       "67694    B09JGJ7D1S  PAPAISON Roller Skates for Women and Men, Delu...   \n",
       "3050     B06XB6LF6Y  Dewhel Sport Front Bumper Tow Hook License Pla...   \n",
       "66635    B07RSM5PRD  JR Studio 3x5 inch Yellow Combat Vet Tab Shape...   \n",
       "64560    B08KXF2S4V  Horsemen's Pride Horse Feed Tub, Small, 18 Qua...   \n",
       "\n",
       "       MEDIA_VOTOS  QTD_AVALIACOES  \\\n",
       "52011          2.7              23   \n",
       "67694          4.6             720   \n",
       "3050           3.4             166   \n",
       "66635          4.2              13   \n",
       "64560          4.4              36   \n",
       "\n",
       "                                         CARACTERISTICAS  \\\n",
       "52011                                                      \n",
       "67694  【RETRO STYLE 】 Classic high top double-row rol...   \n",
       "3050   High quality aluminum Tow hook License Plate,B...   \n",
       "66635  Size: Check Item title - Professionally made i...   \n",
       "64560  This small/mini feed tub measures 14 inches ac...   \n",
       "\n",
       "                                               DESCRICAO      PRECO  \\\n",
       "52011                                                     15.040000   \n",
       "67694                                                     79.989998   \n",
       "3050   Tow Hook License Plate Fitments:2000-2009 Hond...  20.990000   \n",
       "66635                                                      4.990000   \n",
       "64560  The Small Feed Tub measures 14 inches across (...  32.590000   \n",
       "\n",
       "             LOJA                                           DETALHES  \\\n",
       "52011    W-Dragon  Date First Available, Color, Material, Brand, ...   \n",
       "67694    PAPAISON  Size, Color, Brand, Wheel Material, Wheel Type...   \n",
       "3050       DEWHEL  Manufacturer, Brand, Item Weight, Package Dime...   \n",
       "66635   JR Studio  Brand, Color, Room Type, Recommended Uses For ...   \n",
       "64560  Jolly Pets  Product Dimensions, Item model number, Date Fi...   \n",
       "\n",
       "                                              CATEGORIAS  \n",
       "52011  Home & Kitchen, Kitchen & Dining, Kitchen Uten...  \n",
       "67694  Sports & Outdoors, Sports, Skates, Skateboards...  \n",
       "3050   Automotive, Exterior Accessories, License Plat...  \n",
       "66635  Sports & Outdoors, Fan Shop, Auto Accessories,...  \n",
       "64560  Pet Supplies, Horses, Stable Supplies, Feeding...  "
      ]
     },
     "execution_count": 4,
     "metadata": {},
     "output_type": "execute_result"
    }
   ],
   "source": [
    "#Exibe as linhas iniciais\n",
    "dfMeta.head()"
   ]
  },
  {
   "cell_type": "code",
   "execution_count": 5,
   "id": "edd320fb-f051-4bd9-b3ce-8bb7b557a4c1",
   "metadata": {},
   "outputs": [
    {
     "data": {
      "text/html": [
       "<div>\n",
       "<style scoped>\n",
       "    .dataframe tbody tr th:only-of-type {\n",
       "        vertical-align: middle;\n",
       "    }\n",
       "\n",
       "    .dataframe tbody tr th {\n",
       "        vertical-align: top;\n",
       "    }\n",
       "\n",
       "    .dataframe thead th {\n",
       "        text-align: right;\n",
       "    }\n",
       "</style>\n",
       "<table border=\"1\" class=\"dataframe\">\n",
       "  <thead>\n",
       "    <tr style=\"text-align: right;\">\n",
       "      <th></th>\n",
       "      <th>IDENTIFICADOR</th>\n",
       "      <th>TITULO</th>\n",
       "      <th>MEDIA_VOTOS</th>\n",
       "      <th>QTD_AVALIACOES</th>\n",
       "      <th>CARACTERISTICAS</th>\n",
       "      <th>DESCRICAO</th>\n",
       "      <th>PRECO</th>\n",
       "      <th>LOJA</th>\n",
       "      <th>DETALHES</th>\n",
       "      <th>CATEGORIAS</th>\n",
       "    </tr>\n",
       "  </thead>\n",
       "  <tbody>\n",
       "    <tr>\n",
       "      <th>37194</th>\n",
       "      <td>B082B8WPW5</td>\n",
       "      <td>THRRLY Airpods Case, Girls Cute Clear Airpods ...</td>\n",
       "      <td>4.3</td>\n",
       "      <td>85</td>\n",
       "      <td>【Compatibility】This case designed for Airpods ...</td>\n",
       "      <td>Compatibity:, Compatible with Apple Airpods 1s...</td>\n",
       "      <td>11.980000</td>\n",
       "      <td>THRRLY</td>\n",
       "      <td>Package Dimensions, Item Weight, Manufacturer,...</td>\n",
       "      <td>Electronics, Headphones, Earbuds &amp; Accessories...</td>\n",
       "    </tr>\n",
       "    <tr>\n",
       "      <th>6265</th>\n",
       "      <td>B09G6QB78V</td>\n",
       "      <td>MAYASAF EGR Valve EGV598 1998 99 2000 01 02 03...</td>\n",
       "      <td>4.1</td>\n",
       "      <td>13</td>\n",
       "      <td>【Part Fitment】For 1998-2004 Pathfinder;Frontie...</td>\n",
       "      <td></td>\n",
       "      <td>44.990002</td>\n",
       "      <td>MAYASAF</td>\n",
       "      <td>Manufacturer, Part Number, Item Weight, Packag...</td>\n",
       "      <td>Automotive, Replacement Parts, Exhaust &amp; Emiss...</td>\n",
       "    </tr>\n",
       "    <tr>\n",
       "      <th>54886</th>\n",
       "      <td>B08LXSPQZC</td>\n",
       "      <td>Avana Chaise Lounge Chair for Stretching and R...</td>\n",
       "      <td>4.2</td>\n",
       "      <td>52</td>\n",
       "      <td>COMFY &amp; UNIQUE -- Comfortable and unique style...</td>\n",
       "      <td></td>\n",
       "      <td>439.000000</td>\n",
       "      <td>Avana</td>\n",
       "      <td>Color, Brand, Product Dimensions, Style, Speci...</td>\n",
       "      <td>Home &amp; Kitchen, Furniture, Living Room Furnitu...</td>\n",
       "    </tr>\n",
       "    <tr>\n",
       "      <th>860</th>\n",
       "      <td>B08PMQJRYQ</td>\n",
       "      <td>NIXON District Beanie</td>\n",
       "      <td>4.2</td>\n",
       "      <td>11</td>\n",
       "      <td>100% Acrylic, Made in USA or Imported, Machine...</td>\n",
       "      <td>The primary materials that compose this produc...</td>\n",
       "      <td>16.000000</td>\n",
       "      <td>NIXON</td>\n",
       "      <td>Department, Date First Available, Manufacturer</td>\n",
       "      <td>AMAZON FASHION</td>\n",
       "    </tr>\n",
       "    <tr>\n",
       "      <th>15795</th>\n",
       "      <td>1101908211</td>\n",
       "      <td>Poems from Greek Antiquity (Everyman's Library...</td>\n",
       "      <td>4.7</td>\n",
       "      <td>40</td>\n",
       "      <td>A beautiful Pocket Poet selection of short poe...</td>\n",
       "      <td>About the Author, PAUL QUARRIE, author of, Win...</td>\n",
       "      <td>15.950000</td>\n",
       "      <td>Paul Quarrie (Editor)</td>\n",
       "      <td>Publisher, Language, Hardcover, ISBN 10, ISBN ...</td>\n",
       "      <td>Books, Literature &amp; Fiction, Poetry</td>\n",
       "    </tr>\n",
       "  </tbody>\n",
       "</table>\n",
       "</div>"
      ],
      "text/plain": [
       "      IDENTIFICADOR                                             TITULO  \\\n",
       "37194    B082B8WPW5  THRRLY Airpods Case, Girls Cute Clear Airpods ...   \n",
       "6265     B09G6QB78V  MAYASAF EGR Valve EGV598 1998 99 2000 01 02 03...   \n",
       "54886    B08LXSPQZC  Avana Chaise Lounge Chair for Stretching and R...   \n",
       "860      B08PMQJRYQ                              NIXON District Beanie   \n",
       "15795    1101908211  Poems from Greek Antiquity (Everyman's Library...   \n",
       "\n",
       "       MEDIA_VOTOS  QTD_AVALIACOES  \\\n",
       "37194          4.3              85   \n",
       "6265           4.1              13   \n",
       "54886          4.2              52   \n",
       "860            4.2              11   \n",
       "15795          4.7              40   \n",
       "\n",
       "                                         CARACTERISTICAS  \\\n",
       "37194  【Compatibility】This case designed for Airpods ...   \n",
       "6265   【Part Fitment】For 1998-2004 Pathfinder;Frontie...   \n",
       "54886  COMFY & UNIQUE -- Comfortable and unique style...   \n",
       "860    100% Acrylic, Made in USA or Imported, Machine...   \n",
       "15795  A beautiful Pocket Poet selection of short poe...   \n",
       "\n",
       "                                               DESCRICAO       PRECO  \\\n",
       "37194  Compatibity:, Compatible with Apple Airpods 1s...   11.980000   \n",
       "6265                                                       44.990002   \n",
       "54886                                                     439.000000   \n",
       "860    The primary materials that compose this produc...   16.000000   \n",
       "15795  About the Author, PAUL QUARRIE, author of, Win...   15.950000   \n",
       "\n",
       "                        LOJA  \\\n",
       "37194                 THRRLY   \n",
       "6265                 MAYASAF   \n",
       "54886                  Avana   \n",
       "860                    NIXON   \n",
       "15795  Paul Quarrie (Editor)   \n",
       "\n",
       "                                                DETALHES  \\\n",
       "37194  Package Dimensions, Item Weight, Manufacturer,...   \n",
       "6265   Manufacturer, Part Number, Item Weight, Packag...   \n",
       "54886  Color, Brand, Product Dimensions, Style, Speci...   \n",
       "860       Department, Date First Available, Manufacturer   \n",
       "15795  Publisher, Language, Hardcover, ISBN 10, ISBN ...   \n",
       "\n",
       "                                              CATEGORIAS  \n",
       "37194  Electronics, Headphones, Earbuds & Accessories...  \n",
       "6265   Automotive, Replacement Parts, Exhaust & Emiss...  \n",
       "54886  Home & Kitchen, Furniture, Living Room Furnitu...  \n",
       "860                                       AMAZON FASHION  \n",
       "15795                Books, Literature & Fiction, Poetry  "
      ]
     },
     "execution_count": 5,
     "metadata": {},
     "output_type": "execute_result"
    }
   ],
   "source": [
    "#Exibe as linhas iniciais\n",
    "dfMeta.tail()"
   ]
  },
  {
   "cell_type": "markdown",
   "id": "9ede0a33",
   "metadata": {},
   "source": [
    "## Pré-processamento de dados"
   ]
  },
  {
   "cell_type": "markdown",
   "id": "06e68b23",
   "metadata": {},
   "source": [
    "### Seleção de colunas utilizadas"
   ]
  },
  {
   "cell_type": "code",
   "execution_count": 8,
   "id": "8be85699",
   "metadata": {},
   "outputs": [],
   "source": [
    "dfMeta = dfMeta[['TITULO', 'MEDIA_VOTOS', 'QTD_AVALIACOES', 'CARACTERISTICAS', 'DESCRICAO', 'LOJA', 'DETALHES', 'CATEGORIAS']]"
   ]
  },
  {
   "cell_type": "code",
   "execution_count": 9,
   "id": "36b25947",
   "metadata": {},
   "outputs": [],
   "source": [
    "# Ajustando o df para conter apenas produtos com mais de X avaliações\n",
    "#qtdMinReviewsPerProduct = 100\n",
    "#dfMeta = dfMeta[dfMeta['QTD_AVALIACOES'] > qtdMinReviewsPerProduct]"
   ]
  },
  {
   "cell_type": "markdown",
   "id": "cf31582e",
   "metadata": {},
   "source": [
    "## Função de busca de títulos"
   ]
  },
  {
   "cell_type": "code",
   "execution_count": null,
   "id": "1b0e5fe5",
   "metadata": {},
   "outputs": [],
   "source": [
    "def searchProductName(product_name, quantity=10, dataframe=dfMeta):\n",
    "    \"\"\"\n",
    "    Função para buscar produtos pelo nome e mostrar os primeiros resultados.\n",
    "    \"\"\"\n",
    "    \n",
    "    mask = pd.Series(dataframe.index).str.lower().str.contains(product_name.lower())\n",
    "    results = dataframe.index[mask]\n",
    "    if len(results) > 0:\n",
    "\t    for title in results[:quantity]:\n",
    "\t\t    print(title)\n",
    "    else:\n",
    "       print(\"Nenhum produto encontrado.\")"
   ]
  },
  {
   "cell_type": "markdown",
   "id": "d00684a7-6c0e-43dc-b2aa-b55c9b08d3d9",
   "metadata": {},
   "source": [
    "## Recomendação CosineSimilarity com TFidf (KNN / Linear Kernel)"
   ]
  },
  {
   "cell_type": "markdown",
   "id": "db386ed1-b78b-4eb0-b60c-dd322afc94c5",
   "metadata": {
    "jp-MarkdownHeadingCollapsed": true
   },
   "source": [
    "### Frequência de aparição de palavras"
   ]
  },
  {
   "cell_type": "markdown",
   "id": "191e3de8-b44c-40a9-a924-726f6b0931b0",
   "metadata": {},
   "source": [
    "#### Visualizando frequência de tokens com e sem a remoção de Stop Words"
   ]
  },
  {
   "cell_type": "code",
   "execution_count": 9,
   "id": "d6684630-9e27-4bc9-857e-7fd5983dc7a3",
   "metadata": {},
   "outputs": [
    {
     "data": {
      "text/html": [
       "<div>\n",
       "<style scoped>\n",
       "    .dataframe tbody tr th:only-of-type {\n",
       "        vertical-align: middle;\n",
       "    }\n",
       "\n",
       "    .dataframe tbody tr th {\n",
       "        vertical-align: top;\n",
       "    }\n",
       "\n",
       "    .dataframe thead th {\n",
       "        text-align: right;\n",
       "    }\n",
       "</style>\n",
       "<table border=\"1\" class=\"dataframe\">\n",
       "  <thead>\n",
       "    <tr style=\"text-align: right;\">\n",
       "      <th></th>\n",
       "      <th>TITULO</th>\n",
       "      <th>MEDIA_VOTOS</th>\n",
       "      <th>QTD_AVALIACOES</th>\n",
       "      <th>CARACTERISTICAS</th>\n",
       "      <th>DESCRICAO</th>\n",
       "      <th>LOJA</th>\n",
       "      <th>DETALHES</th>\n",
       "      <th>CATEGORIAS</th>\n",
       "    </tr>\n",
       "  </thead>\n",
       "  <tbody>\n",
       "    <tr>\n",
       "      <th>52011</th>\n",
       "      <td>Electric Can Opener, Restaurant Can Opener, Fu...</td>\n",
       "      <td>2.7</td>\n",
       "      <td>23</td>\n",
       "      <td></td>\n",
       "      <td></td>\n",
       "      <td>W-Dragon</td>\n",
       "      <td>Date First Available, Color, Material, Brand, ...</td>\n",
       "      <td>Home &amp; Kitchen, Kitchen &amp; Dining, Kitchen Uten...</td>\n",
       "    </tr>\n",
       "    <tr>\n",
       "      <th>67694</th>\n",
       "      <td>PAPAISON Roller Skates for Women and Men, Delu...</td>\n",
       "      <td>4.6</td>\n",
       "      <td>720</td>\n",
       "      <td>【RETRO STYLE 】 Classic high top double-row rol...</td>\n",
       "      <td></td>\n",
       "      <td>PAPAISON</td>\n",
       "      <td>Size, Color, Brand, Wheel Material, Wheel Type...</td>\n",
       "      <td>Sports &amp; Outdoors, Sports, Skates, Skateboards...</td>\n",
       "    </tr>\n",
       "    <tr>\n",
       "      <th>3050</th>\n",
       "      <td>Dewhel Sport Front Bumper Tow Hook License Pla...</td>\n",
       "      <td>3.4</td>\n",
       "      <td>166</td>\n",
       "      <td>High quality aluminum Tow hook License Plate,B...</td>\n",
       "      <td>Tow Hook License Plate Fitments:2000-2009 Hond...</td>\n",
       "      <td>DEWHEL</td>\n",
       "      <td>Manufacturer, Brand, Item Weight, Package Dime...</td>\n",
       "      <td>Automotive, Exterior Accessories, License Plat...</td>\n",
       "    </tr>\n",
       "    <tr>\n",
       "      <th>66635</th>\n",
       "      <td>JR Studio 3x5 inch Yellow Combat Vet Tab Shape...</td>\n",
       "      <td>4.2</td>\n",
       "      <td>13</td>\n",
       "      <td>Size: Check Item title - Professionally made i...</td>\n",
       "      <td></td>\n",
       "      <td>JR Studio</td>\n",
       "      <td>Brand, Color, Room Type, Recommended Uses For ...</td>\n",
       "      <td>Sports &amp; Outdoors, Fan Shop, Auto Accessories,...</td>\n",
       "    </tr>\n",
       "    <tr>\n",
       "      <th>64560</th>\n",
       "      <td>Horsemen's Pride Horse Feed Tub, Small, 18 Qua...</td>\n",
       "      <td>4.4</td>\n",
       "      <td>36</td>\n",
       "      <td>This small/mini feed tub measures 14 inches ac...</td>\n",
       "      <td>The Small Feed Tub measures 14 inches across (...</td>\n",
       "      <td>Jolly Pets</td>\n",
       "      <td>Product Dimensions, Item model number, Date Fi...</td>\n",
       "      <td>Pet Supplies, Horses, Stable Supplies, Feeding...</td>\n",
       "    </tr>\n",
       "  </tbody>\n",
       "</table>\n",
       "</div>"
      ],
      "text/plain": [
       "                                                  TITULO  MEDIA_VOTOS  \\\n",
       "52011  Electric Can Opener, Restaurant Can Opener, Fu...          2.7   \n",
       "67694  PAPAISON Roller Skates for Women and Men, Delu...          4.6   \n",
       "3050   Dewhel Sport Front Bumper Tow Hook License Pla...          3.4   \n",
       "66635  JR Studio 3x5 inch Yellow Combat Vet Tab Shape...          4.2   \n",
       "64560  Horsemen's Pride Horse Feed Tub, Small, 18 Qua...          4.4   \n",
       "\n",
       "       QTD_AVALIACOES                                    CARACTERISTICAS  \\\n",
       "52011              23                                                      \n",
       "67694             720  【RETRO STYLE 】 Classic high top double-row rol...   \n",
       "3050              166  High quality aluminum Tow hook License Plate,B...   \n",
       "66635              13  Size: Check Item title - Professionally made i...   \n",
       "64560              36  This small/mini feed tub measures 14 inches ac...   \n",
       "\n",
       "                                               DESCRICAO        LOJA  \\\n",
       "52011                                                       W-Dragon   \n",
       "67694                                                       PAPAISON   \n",
       "3050   Tow Hook License Plate Fitments:2000-2009 Hond...      DEWHEL   \n",
       "66635                                                      JR Studio   \n",
       "64560  The Small Feed Tub measures 14 inches across (...  Jolly Pets   \n",
       "\n",
       "                                                DETALHES  \\\n",
       "52011  Date First Available, Color, Material, Brand, ...   \n",
       "67694  Size, Color, Brand, Wheel Material, Wheel Type...   \n",
       "3050   Manufacturer, Brand, Item Weight, Package Dime...   \n",
       "66635  Brand, Color, Room Type, Recommended Uses For ...   \n",
       "64560  Product Dimensions, Item model number, Date Fi...   \n",
       "\n",
       "                                              CATEGORIAS  \n",
       "52011  Home & Kitchen, Kitchen & Dining, Kitchen Uten...  \n",
       "67694  Sports & Outdoors, Sports, Skates, Skateboards...  \n",
       "3050   Automotive, Exterior Accessories, License Plat...  \n",
       "66635  Sports & Outdoors, Fan Shop, Auto Accessories,...  \n",
       "64560  Pet Supplies, Horses, Stable Supplies, Feeding...  "
      ]
     },
     "execution_count": 9,
     "metadata": {},
     "output_type": "execute_result"
    }
   ],
   "source": [
    "dfMeta.head()"
   ]
  },
  {
   "cell_type": "code",
   "execution_count": 10,
   "id": "d1f79247",
   "metadata": {},
   "outputs": [],
   "source": [
    "def plotBarCountCaracteristicas(df, title):\n",
    "    plt.figure(figsize=(12, 6))\n",
    "    bars = plt.bar(df['CARACTERISTICAS'], df['count'], color='black')\n",
    "    plt.title(title, fontsize=14)\n",
    "    plt.xlabel('Palavras')\n",
    "    plt.ylabel('Contagem')\n",
    "    plt.xticks(rotation=90)\n",
    "    plt.grid(axis='y', linestyle='--', alpha=0.7)\n",
    "    plt.tight_layout()\n",
    "    plt.show()"
   ]
  },
  {
   "cell_type": "code",
   "execution_count": null,
   "id": "77d1d78c-04de-4f05-813c-688c376d8e3c",
   "metadata": {},
   "outputs": [
    {
     "data": {
      "image/png": "[encoded data removed]",
      "text/plain": [
       "<Figure size 1200x600 with 1 Axes>"
      ]
     },
     "metadata": {},
     "output_type": "display_data"
    }
   ],
   "source": [
    "def get_top_n_words(corpus, n=None):\n",
    "    vec = CountVectorizer().fit(corpus)\n",
    "    bag_of_words = vec.transform(corpus)\n",
    "    sum_words = bag_of_words.sum(axis=0)\n",
    "    words_freq = [(word, sum_words[0, idx]) for word, idx in vec.vocabulary_.items()]\n",
    "    words_freq = sorted(words_freq, key = lambda x: x[1], reverse=True)\n",
    "    return words_freq[:n]\n",
    "\n",
    "common_words = get_top_n_words(dfMeta['CARACTERISTICAS'], 20)\n",
    "df1 = pd.DataFrame(common_words, columns = ['CARACTERISTICAS', 'count'])\n",
    "\n",
    "plotBarCountCaracteristicas(df1, \"Top 20 palavras em características de produto antes da remoção de 'stop words'\")"
   ]
  },
  {
   "cell_type": "markdown",
   "id": "6e84c6c7-4494-466a-8889-af0fa97b83b9",
   "metadata": {},
   "source": [
    "*OBS: Adicionar um stop words personalizado com as palavras não desejadas*"
   ]
  },
  {
   "cell_type": "code",
   "execution_count": null,
   "id": "45ab636e-3381-49d8-bbd3-447e76bf5215",
   "metadata": {},
   "outputs": [
    {
     "data": {
      "image/png": "[encoded data removed]",
      "text/plain": [
       "<Figure size 1200x600 with 1 Axes>"
      ]
     },
     "metadata": {},
     "output_type": "display_data"
    }
   ],
   "source": [
    "def get_top_n_words(corpus, n=None):\n",
    "\n",
    "    # Define as stopwords padrão do inglês\n",
    "    stop_words = set(CountVectorizer(stop_words='english').get_stop_words())\n",
    "    #Adicionando palavras que não trazem valor\n",
    "    stop_words.add(\"amazon\")\n",
    "    stop_words.add(\"com\")\n",
    "\n",
    "    # Converte o conjunto de stopwords para uma lista\n",
    "    stop_words = list(stop_words)\n",
    "\n",
    "     # Inicializa o CountVectorizer com as stopwords personalizadas\n",
    "    vec = CountVectorizer(stop_words=stop_words).fit(corpus)\n",
    "\n",
    "    # Calcula a frequência das palavras\n",
    "    bag_of_words = vec.transform(corpus)\n",
    "    sum_words = bag_of_words.sum(axis=0)\n",
    "    words_freq = [(word, sum_words[0, idx]) for word, idx in vec.vocabulary_.items()]\n",
    "    \n",
    "    # Ordena as palavras pela frequência\n",
    "    words_freq = sorted(words_freq, key = lambda x: x[1], reverse=True)\n",
    "    \n",
    "    return words_freq[:n]\n",
    "\n",
    "common_words = get_top_n_words(dfMeta['CARACTERISTICAS'], 20)\n",
    "df1 = pd.DataFrame(common_words, columns = ['CARACTERISTICAS', 'count'])\n",
    "plotBarCountCaracteristicas(df1, \"Top 20 palavras em características de produto depois da remoção de 'stop words'\")\n"
   ]
  },
  {
   "cell_type": "markdown",
   "id": "fb2c7435-739e-424c-9d1a-01cd581c80da",
   "metadata": {},
   "source": [
    "##### Bigramas (2 termos) e frequência de tokens com e sem remoção de stop words"
   ]
  },
  {
   "cell_type": "code",
   "execution_count": null,
   "id": "ee3ce336-601b-40b4-8c02-75fa12cd32d8",
   "metadata": {},
   "outputs": [
    {
     "data": {
      "image/png": "[encoded data removed]",
      "text/plain": [
       "<Figure size 1200x600 with 1 Axes>"
      ]
     },
     "metadata": {},
     "output_type": "display_data"
    }
   ],
   "source": [
    "def get_top_n_bigram(corpus, n=None):\n",
    "    vec = CountVectorizer(ngram_range=(2, 2)).fit(corpus)\n",
    "    bag_of_words = vec.transform(corpus)\n",
    "    sum_words = bag_of_words.sum(axis=0)\n",
    "    words_freq = [(word, sum_words[0, idx]) for word, idx in vec.vocabulary_.items()]\n",
    "    words_freq = sorted(words_freq, key = lambda x: x[1], reverse=True)\n",
    "    return words_freq[:n]\n",
    "\n",
    "common_words = get_top_n_bigram(dfMeta['CARACTERISTICAS'], 20)\n",
    "df1 = pd.DataFrame(common_words, columns = ['CARACTERISTICAS', 'count'])\n",
    "plotBarCountCaracteristicas(df1, \"Top 20 bigramas em características de produto antes da remoção de 'stop words'\")"
   ]
  },
  {
   "cell_type": "code",
   "execution_count": null,
   "id": "64cf1f81-3126-4f96-8f13-a02624f2cfcd",
   "metadata": {},
   "outputs": [
    {
     "data": {
      "application/vnd.plotly.v1+json": {
       "config": {
        "plotlyServerURL": "https://plot.ly"
       },
       "data": [
        {
         "hovertemplate": "Palavras=%{x}<br>Contagem=%{y}<extra></extra>",
         "legendgroup": "",
         "marker": {
          "color": "black",
          "pattern": {
           "shape": ""
          }
         },
         "name": "",
         "orientation": "v",
         "showlegend": false,
         "textposition": "auto",
         "type": "bar",
         "x": [
          "high quality",
          "stainless steel",
          "easy clean",
          "easy install",
          "easy use",
          "machine washable",
          "feel free",
          "heavy duty",
          "customer service",
          "machine wash",
          "free contact",
          "long lasting",
          "samsung galaxy",
          "living room",
          "perfect gift",
          "non slip",
          "easy care",
          "100 polyester",
          "great gift",
          "tumble dry"
         ],
         "xaxis": "x",
         "y": {
          "bdata": "7CouDecKkQlUCaUIjAhJCEgI2gdpBzMHKQcPB+sGSgYPBuMFygWOBQ==",
          "dtype": "i2"
         },
         "yaxis": "y"
        }
       ],
       "layout": {
        "barmode": "relative",
        "legend": {
         "tracegroupgap": 0
        },
        "template": {
         "data": {
          "bar": [
           {
            "error_x": {
             "color": "#2a3f5f"
            },
            "error_y": {
             "color": "#2a3f5f"
            },
            "marker": {
             "line": {
              "color": "white",
              "width": 0.5
             },
             "pattern": {
              "fillmode": "overlay",
              "size": 10,
              "solidity": 0.2
             }
            },
            "type": "bar"
           }
          ],
          "barpolar": [
           {
            "marker": {
             "line": {
              "color": "white",
              "width": 0.5
             },
             "pattern": {
              "fillmode": "overlay",
              "size": 10,
              "solidity": 0.2
             }
            },
            "type": "barpolar"
           }
          ],
          "carpet": [
           {
            "aaxis": {
             "endlinecolor": "#2a3f5f",
             "gridcolor": "#C8D4E3",
             "linecolor": "#C8D4E3",
             "minorgridcolor": "#C8D4E3",
             "startlinecolor": "#2a3f5f"
            },
            "baxis": {
             "endlinecolor": "#2a3f5f",
             "gridcolor": "#C8D4E3",
             "linecolor": "#C8D4E3",
             "minorgridcolor": "#C8D4E3",
             "startlinecolor": "#2a3f5f"
            },
            "type": "carpet"
           }
          ],
          "choropleth": [
           {
            "colorbar": {
             "outlinewidth": 0,
             "ticks": ""
            },
            "type": "choropleth"
           }
          ],
          "contour": [
           {
            "colorbar": {
             "outlinewidth": 0,
             "ticks": ""
            },
            "colorscale": [
             [
              0,
              "#0d0887"
             ],
             [
              0.1111111111111111,
              "#46039f"
             ],
             [
              0.2222222222222222,
              "#7201a8"
             ],
             [
              0.3333333333333333,
              "#9c179e"
             ],
             [
              0.4444444444444444,
              "#bd3786"
             ],
             [
              0.5555555555555556,
              "#d8576b"
             ],
             [
              0.6666666666666666,
              "#ed7953"
             ],
             [
              0.7777777777777778,
              "#fb9f3a"
             ],
             [
              0.8888888888888888,
              "#fdca26"
             ],
             [
              1,
              "#f0f921"
             ]
            ],
            "type": "contour"
           }
          ],
          "contourcarpet": [
           {
            "colorbar": {
             "outlinewidth": 0,
             "ticks": ""
            },
            "type": "contourcarpet"
           }
          ],
          "heatmap": [
           {
            "colorbar": {
             "outlinewidth": 0,
             "ticks": ""
            },
            "colorscale": [
             [
              0,
              "#0d0887"
             ],
             [
              0.1111111111111111,
              "#46039f"
             ],
             [
              0.2222222222222222,
              "#7201a8"
             ],
             [
              0.3333333333333333,
              "#9c179e"
             ],
             [
              0.4444444444444444,
              "#bd3786"
             ],
             [
              0.5555555555555556,
              "#d8576b"
             ],
             [
              0.6666666666666666,
              "#ed7953"
             ],
             [
              0.7777777777777778,
              "#fb9f3a"
             ],
             [
              0.8888888888888888,
              "#fdca26"
             ],
             [
              1,
              "#f0f921"
             ]
            ],
            "type": "heatmap"
           }
          ],
          "histogram": [
           {
            "marker": {
             "pattern": {
              "fillmode": "overlay",
              "size": 10,
              "solidity": 0.2
             }
            },
            "type": "histogram"
           }
          ],
          "histogram2d": [
           {
            "colorbar": {
             "outlinewidth": 0,
             "ticks": ""
            },
            "colorscale": [
             [
              0,
              "#0d0887"
             ],
             [
              0.1111111111111111,
              "#46039f"
             ],
             [
              0.2222222222222222,
              "#7201a8"
             ],
             [
              0.3333333333333333,
              "#9c179e"
             ],
             [
              0.4444444444444444,
              "#bd3786"
             ],
             [
              0.5555555555555556,
              "#d8576b"
             ],
             [
              0.6666666666666666,
              "#ed7953"
             ],
             [
              0.7777777777777778,
              "#fb9f3a"
             ],
             [
              0.8888888888888888,
              "#fdca26"
             ],
             [
              1,
              "#f0f921"
             ]
            ],
            "type": "histogram2d"
           }
          ],
          "histogram2dcontour": [
           {
            "colorbar": {
             "outlinewidth": 0,
             "ticks": ""
            },
            "colorscale": [
             [
              0,
              "#0d0887"
             ],
             [
              0.1111111111111111,
              "#46039f"
             ],
             [
              0.2222222222222222,
              "#7201a8"
             ],
             [
              0.3333333333333333,
              "#9c179e"
             ],
             [
              0.4444444444444444,
              "#bd3786"
             ],
             [
              0.5555555555555556,
              "#d8576b"
             ],
             [
              0.6666666666666666,
              "#ed7953"
             ],
             [
              0.7777777777777778,
              "#fb9f3a"
             ],
             [
              0.8888888888888888,
              "#fdca26"
             ],
             [
              1,
              "#f0f921"
             ]
            ],
            "type": "histogram2dcontour"
           }
          ],
          "mesh3d": [
           {
            "colorbar": {
             "outlinewidth": 0,
             "ticks": ""
            },
            "type": "mesh3d"
           }
          ],
          "parcoords": [
           {
            "line": {
             "colorbar": {
              "outlinewidth": 0,
              "ticks": ""
             }
            },
            "type": "parcoords"
           }
          ],
          "pie": [
           {
            "automargin": true,
            "type": "pie"
           }
          ],
          "scatter": [
           {
            "fillpattern": {
             "fillmode": "overlay",
             "size": 10,
             "solidity": 0.2
            },
            "type": "scatter"
           }
          ],
          "scatter3d": [
           {
            "line": {
             "colorbar": {
              "outlinewidth": 0,
              "ticks": ""
             }
            },
            "marker": {
             "colorbar": {
              "outlinewidth": 0,
              "ticks": ""
             }
            },
            "type": "scatter3d"
           }
          ],
          "scattercarpet": [
           {
            "marker": {
             "colorbar": {
              "outlinewidth": 0,
              "ticks": ""
             }
            },
            "type": "scattercarpet"
           }
          ],
          "scattergeo": [
           {
            "marker": {
             "colorbar": {
              "outlinewidth": 0,
              "ticks": ""
             }
            },
            "type": "scattergeo"
           }
          ],
          "scattergl": [
           {
            "marker": {
             "colorbar": {
              "outlinewidth": 0,
              "ticks": ""
             }
            },
            "type": "scattergl"
           }
          ],
          "scattermap": [
           {
            "marker": {
             "colorbar": {
              "outlinewidth": 0,
              "ticks": ""
             }
            },
            "type": "scattermap"
           }
          ],
          "scattermapbox": [
           {
            "marker": {
             "colorbar": {
              "outlinewidth": 0,
              "ticks": ""
             }
            },
            "type": "scattermapbox"
           }
          ],
          "scatterpolar": [
           {
            "marker": {
             "colorbar": {
              "outlinewidth": 0,
              "ticks": ""
             }
            },
            "type": "scatterpolar"
           }
          ],
          "scatterpolargl": [
           {
            "marker": {
             "colorbar": {
              "outlinewidth": 0,
              "ticks": ""
             }
            },
            "type": "scatterpolargl"
           }
          ],
          "scatterternary": [
           {
            "marker": {
             "colorbar": {
              "outlinewidth": 0,
              "ticks": ""
             }
            },
            "type": "scatterternary"
           }
          ],
          "surface": [
           {
            "colorbar": {
             "outlinewidth": 0,
             "ticks": ""
            },
            "colorscale": [
             [
              0,
              "#0d0887"
             ],
             [
              0.1111111111111111,
              "#46039f"
             ],
             [
              0.2222222222222222,
              "#7201a8"
             ],
             [
              0.3333333333333333,
              "#9c179e"
             ],
             [
              0.4444444444444444,
              "#bd3786"
             ],
             [
              0.5555555555555556,
              "#d8576b"
             ],
             [
              0.6666666666666666,
              "#ed7953"
             ],
             [
              0.7777777777777778,
              "#fb9f3a"
             ],
             [
              0.8888888888888888,
              "#fdca26"
             ],
             [
              1,
              "#f0f921"
             ]
            ],
            "type": "surface"
           }
          ],
          "table": [
           {
            "cells": {
             "fill": {
              "color": "#EBF0F8"
             },
             "line": {
              "color": "white"
             }
            },
            "header": {
             "fill": {
              "color": "#C8D4E3"
             },
             "line": {
              "color": "white"
             }
            },
            "type": "table"
           }
          ]
         },
         "layout": {
          "annotationdefaults": {
           "arrowcolor": "#2a3f5f",
           "arrowhead": 0,
           "arrowwidth": 1
          },
          "autotypenumbers": "strict",
          "coloraxis": {
           "colorbar": {
            "outlinewidth": 0,
            "ticks": ""
           }
          },
          "colorscale": {
           "diverging": [
            [
             0,
             "#8e0152"
            ],
            [
             0.1,
             "#c51b7d"
            ],
            [
             0.2,
             "#de77ae"
            ],
            [
             0.3,
             "#f1b6da"
            ],
            [
             0.4,
             "#fde0ef"
            ],
            [
             0.5,
             "#f7f7f7"
            ],
            [
             0.6,
             "#e6f5d0"
            ],
            [
             0.7,
             "#b8e186"
            ],
            [
             0.8,
             "#7fbc41"
            ],
            [
             0.9,
             "#4d9221"
            ],
            [
             1,
             "#276419"
            ]
           ],
           "sequential": [
            [
             0,
             "#0d0887"
            ],
            [
             0.1111111111111111,
             "#46039f"
            ],
            [
             0.2222222222222222,
             "#7201a8"
            ],
            [
             0.3333333333333333,
             "#9c179e"
            ],
            [
             0.4444444444444444,
             "#bd3786"
            ],
            [
             0.5555555555555556,
             "#d8576b"
            ],
            [
             0.6666666666666666,
             "#ed7953"
            ],
            [
             0.7777777777777778,
             "#fb9f3a"
            ],
            [
             0.8888888888888888,
             "#fdca26"
            ],
            [
             1,
             "#f0f921"
            ]
           ],
           "sequentialminus": [
            [
             0,
             "#0d0887"
            ],
            [
             0.1111111111111111,
             "#46039f"
            ],
            [
             0.2222222222222222,
             "#7201a8"
            ],
            [
             0.3333333333333333,
             "#9c179e"
            ],
            [
             0.4444444444444444,
             "#bd3786"
            ],
            [
             0.5555555555555556,
             "#d8576b"
            ],
            [
             0.6666666666666666,
             "#ed7953"
            ],
            [
             0.7777777777777778,
             "#fb9f3a"
            ],
            [
             0.8888888888888888,
             "#fdca26"
            ],
            [
             1,
             "#f0f921"
            ]
           ]
          },
          "colorway": [
           "#636efa",
           "#EF553B",
           "#00cc96",
           "#ab63fa",
           "#FFA15A",
           "#19d3f3",
           "#FF6692",
           "#B6E880",
           "#FF97FF",
           "#FECB52"
          ],
          "font": {
           "color": "#2a3f5f"
          },
          "geo": {
           "bgcolor": "white",
           "lakecolor": "white",
           "landcolor": "white",
           "showlakes": true,
           "showland": true,
           "subunitcolor": "#C8D4E3"
          },
          "hoverlabel": {
           "align": "left"
          },
          "hovermode": "closest",
          "mapbox": {
           "style": "light"
          },
          "paper_bgcolor": "white",
          "plot_bgcolor": "white",
          "polar": {
           "angularaxis": {
            "gridcolor": "#EBF0F8",
            "linecolor": "#EBF0F8",
            "ticks": ""
           },
           "bgcolor": "white",
           "radialaxis": {
            "gridcolor": "#EBF0F8",
            "linecolor": "#EBF0F8",
            "ticks": ""
           }
          },
          "scene": {
           "xaxis": {
            "backgroundcolor": "white",
            "gridcolor": "#DFE8F3",
            "gridwidth": 2,
            "linecolor": "#EBF0F8",
            "showbackground": true,
            "ticks": "",
            "zerolinecolor": "#EBF0F8"
           },
           "yaxis": {
            "backgroundcolor": "white",
            "gridcolor": "#DFE8F3",
            "gridwidth": 2,
            "linecolor": "#EBF0F8",
            "showbackground": true,
            "ticks": "",
            "zerolinecolor": "#EBF0F8"
           },
           "zaxis": {
            "backgroundcolor": "white",
            "gridcolor": "#DFE8F3",
            "gridwidth": 2,
            "linecolor": "#EBF0F8",
            "showbackground": true,
            "ticks": "",
            "zerolinecolor": "#EBF0F8"
           }
          },
          "shapedefaults": {
           "line": {
            "color": "#2a3f5f"
           }
          },
          "ternary": {
           "aaxis": {
            "gridcolor": "#DFE8F3",
            "linecolor": "#A2B1C6",
            "ticks": ""
           },
           "baxis": {
            "gridcolor": "#DFE8F3",
            "linecolor": "#A2B1C6",
            "ticks": ""
           },
           "bgcolor": "white",
           "caxis": {
            "gridcolor": "#DFE8F3",
            "linecolor": "#A2B1C6",
            "ticks": ""
           }
          },
          "title": {
           "x": 0.05
          },
          "xaxis": {
           "automargin": true,
           "gridcolor": "#EBF0F8",
           "linecolor": "#EBF0F8",
           "ticks": "",
           "title": {
            "standoff": 15
           },
           "zerolinecolor": "#EBF0F8",
           "zerolinewidth": 2
          },
          "yaxis": {
           "automargin": true,
           "gridcolor": "#EBF0F8",
           "linecolor": "#EBF0F8",
           "ticks": "",
           "title": {
            "standoff": 15
           },
           "zerolinecolor": "#EBF0F8",
           "zerolinewidth": 2
          }
         }
        },
        "title": {
         "text": "Top 20 bigramas em características de produto depois da remoção de 'stop words'"
        },
        "xaxis": {
         "anchor": "y",
         "domain": [
          0,
          1
         ],
         "title": {
          "text": "Palavras"
         }
        },
        "yaxis": {
         "anchor": "x",
         "domain": [
          0,
          1
         ],
         "title": {
          "text": "Contagem"
         }
        }
       }
      }
     },
     "metadata": {},
     "output_type": "display_data"
    }
   ],
   "source": [
    "def get_top_n_bigrams(corpus, n=None):\n",
    "\n",
    "    # Define as stopwords padrão do inglês\n",
    "    stop_words = set(CountVectorizer(stop_words='english').get_stop_words())\n",
    "    #Adicionando palavras que não trazem valor\n",
    "    stop_words.add(\"amazon\")\n",
    "    stop_words.add(\"com\")\n",
    "\n",
    "    # Converte o conjunto de stopwords para uma lista\n",
    "    stop_words = list(stop_words)\n",
    "\n",
    "     # Inicializa o CountVectorizer com as stopwords personalizadas\n",
    "    vec = CountVectorizer(ngram_range=(2, 2), stop_words=stop_words).fit(corpus)\n",
    "\n",
    "    # Calcula a frequência das palavras\n",
    "    bag_of_words = vec.transform(corpus)\n",
    "    sum_words = bag_of_words.sum(axis=0)\n",
    "    words_freq = [(word, sum_words[0, idx]) for word, idx in vec.vocabulary_.items()]\n",
    "    \n",
    "    # Ordena as palavras pela frequência\n",
    "    words_freq = sorted(words_freq, key = lambda x: x[1], reverse=True)\n",
    "    \n",
    "    return words_freq[:n]\n",
    "\n",
    "common_words = get_top_n_bigrams(dfMeta['CARACTERISTICAS'], 20)\n",
    "df1 = pd.DataFrame(common_words, columns = ['CARACTERISTICAS', 'count'])\n",
    "plotBarCountCaracteristicas(df1, \"Top 20 bigramas em características de produto depois da remoção de 'stop words'\")"
   ]
  },
  {
   "cell_type": "markdown",
   "id": "1da97420-23c5-4e63-b0f4-5d4ead8b0cdc",
   "metadata": {},
   "source": [
    "##### Trigramas (3 termos) e frequência de tokens com e sem remoção de stop words"
   ]
  },
  {
   "cell_type": "code",
   "execution_count": null,
   "id": "fbee809b-95bb-41fe-99db-8cf6530ebf5d",
   "metadata": {},
   "outputs": [
    {
     "data": {
      "application/vnd.plotly.v1+json": {
       "config": {
        "plotlyServerURL": "https://plot.ly"
       },
       "data": [
        {
         "hovertemplate": "Palavras=%{x}<br>Contagem=%{y}<extra></extra>",
         "legendgroup": "",
         "marker": {
          "color": "black",
          "pattern": {
           "shape": ""
          }
         },
         "name": "",
         "orientation": "v",
         "showlegend": false,
         "textposition": "auto",
         "type": "bar",
         "x": [
          "is made of",
          "can be used",
          "if you have",
          "you have any",
          "easy to clean",
          "made of high",
          "easy to install",
          "of high quality",
          "easy to use",
          "feel free to",
          "as well as",
          "to contact us",
          "are made of",
          "and easy to",
          "free to contact",
          "please feel free",
          "in the usa",
          "please contact us",
          "one of the",
          "is easy to"
         ],
         "xaxis": "x",
         "y": {
          "bdata": "+g4pDRYLKAreCTUJ9AjnCKsIYQgyCB4IAQiLB0QH7AbGBmAGTAYKBg==",
          "dtype": "i2"
         },
         "yaxis": "y"
        }
       ],
       "layout": {
        "barmode": "relative",
        "legend": {
         "tracegroupgap": 0
        },
        "template": {
         "data": {
          "bar": [
           {
            "error_x": {
             "color": "#2a3f5f"
            },
            "error_y": {
             "color": "#2a3f5f"
            },
            "marker": {
             "line": {
              "color": "white",
              "width": 0.5
             },
             "pattern": {
              "fillmode": "overlay",
              "size": 10,
              "solidity": 0.2
             }
            },
            "type": "bar"
           }
          ],
          "barpolar": [
           {
            "marker": {
             "line": {
              "color": "white",
              "width": 0.5
             },
             "pattern": {
              "fillmode": "overlay",
              "size": 10,
              "solidity": 0.2
             }
            },
            "type": "barpolar"
           }
          ],
          "carpet": [
           {
            "aaxis": {
             "endlinecolor": "#2a3f5f",
             "gridcolor": "#C8D4E3",
             "linecolor": "#C8D4E3",
             "minorgridcolor": "#C8D4E3",
             "startlinecolor": "#2a3f5f"
            },
            "baxis": {
             "endlinecolor": "#2a3f5f",
             "gridcolor": "#C8D4E3",
             "linecolor": "#C8D4E3",
             "minorgridcolor": "#C8D4E3",
             "startlinecolor": "#2a3f5f"
            },
            "type": "carpet"
           }
          ],
          "choropleth": [
           {
            "colorbar": {
             "outlinewidth": 0,
             "ticks": ""
            },
            "type": "choropleth"
           }
          ],
          "contour": [
           {
            "colorbar": {
             "outlinewidth": 0,
             "ticks": ""
            },
            "colorscale": [
             [
              0,
              "#0d0887"
             ],
             [
              0.1111111111111111,
              "#46039f"
             ],
             [
              0.2222222222222222,
              "#7201a8"
             ],
             [
              0.3333333333333333,
              "#9c179e"
             ],
             [
              0.4444444444444444,
              "#bd3786"
             ],
             [
              0.5555555555555556,
              "#d8576b"
             ],
             [
              0.6666666666666666,
              "#ed7953"
             ],
             [
              0.7777777777777778,
              "#fb9f3a"
             ],
             [
              0.8888888888888888,
              "#fdca26"
             ],
             [
              1,
              "#f0f921"
             ]
            ],
            "type": "contour"
           }
          ],
          "contourcarpet": [
           {
            "colorbar": {
             "outlinewidth": 0,
             "ticks": ""
            },
            "type": "contourcarpet"
           }
          ],
          "heatmap": [
           {
            "colorbar": {
             "outlinewidth": 0,
             "ticks": ""
            },
            "colorscale": [
             [
              0,
              "#0d0887"
             ],
             [
              0.1111111111111111,
              "#46039f"
             ],
             [
              0.2222222222222222,
              "#7201a8"
             ],
             [
              0.3333333333333333,
              "#9c179e"
             ],
             [
              0.4444444444444444,
              "#bd3786"
             ],
             [
              0.5555555555555556,
              "#d8576b"
             ],
             [
              0.6666666666666666,
              "#ed7953"
             ],
             [
              0.7777777777777778,
              "#fb9f3a"
             ],
             [
              0.8888888888888888,
              "#fdca26"
             ],
             [
              1,
              "#f0f921"
             ]
            ],
            "type": "heatmap"
           }
          ],
          "histogram": [
           {
            "marker": {
             "pattern": {
              "fillmode": "overlay",
              "size": 10,
              "solidity": 0.2
             }
            },
            "type": "histogram"
           }
          ],
          "histogram2d": [
           {
            "colorbar": {
             "outlinewidth": 0,
             "ticks": ""
            },
            "colorscale": [
             [
              0,
              "#0d0887"
             ],
             [
              0.1111111111111111,
              "#46039f"
             ],
             [
              0.2222222222222222,
              "#7201a8"
             ],
             [
              0.3333333333333333,
              "#9c179e"
             ],
             [
              0.4444444444444444,
              "#bd3786"
             ],
             [
              0.5555555555555556,
              "#d8576b"
             ],
             [
              0.6666666666666666,
              "#ed7953"
             ],
             [
              0.7777777777777778,
              "#fb9f3a"
             ],
             [
              0.8888888888888888,
              "#fdca26"
             ],
             [
              1,
              "#f0f921"
             ]
            ],
            "type": "histogram2d"
           }
          ],
          "histogram2dcontour": [
           {
            "colorbar": {
             "outlinewidth": 0,
             "ticks": ""
            },
            "colorscale": [
             [
              0,
              "#0d0887"
             ],
             [
              0.1111111111111111,
              "#46039f"
             ],
             [
              0.2222222222222222,
              "#7201a8"
             ],
             [
              0.3333333333333333,
              "#9c179e"
             ],
             [
              0.4444444444444444,
              "#bd3786"
             ],
             [
              0.5555555555555556,
              "#d8576b"
             ],
             [
              0.6666666666666666,
              "#ed7953"
             ],
             [
              0.7777777777777778,
              "#fb9f3a"
             ],
             [
              0.8888888888888888,
              "#fdca26"
             ],
             [
              1,
              "#f0f921"
             ]
            ],
            "type": "histogram2dcontour"
           }
          ],
          "mesh3d": [
           {
            "colorbar": {
             "outlinewidth": 0,
             "ticks": ""
            },
            "type": "mesh3d"
           }
          ],
          "parcoords": [
           {
            "line": {
             "colorbar": {
              "outlinewidth": 0,
              "ticks": ""
             }
            },
            "type": "parcoords"
           }
          ],
          "pie": [
           {
            "automargin": true,
            "type": "pie"
           }
          ],
          "scatter": [
           {
            "fillpattern": {
             "fillmode": "overlay",
             "size": 10,
             "solidity": 0.2
            },
            "type": "scatter"
           }
          ],
          "scatter3d": [
           {
            "line": {
             "colorbar": {
              "outlinewidth": 0,
              "ticks": ""
             }
            },
            "marker": {
             "colorbar": {
              "outlinewidth": 0,
              "ticks": ""
             }
            },
            "type": "scatter3d"
           }
          ],
          "scattercarpet": [
           {
            "marker": {
             "colorbar": {
              "outlinewidth": 0,
              "ticks": ""
             }
            },
            "type": "scattercarpet"
           }
          ],
          "scattergeo": [
           {
            "marker": {
             "colorbar": {
              "outlinewidth": 0,
              "ticks": ""
             }
            },
            "type": "scattergeo"
           }
          ],
          "scattergl": [
           {
            "marker": {
             "colorbar": {
              "outlinewidth": 0,
              "ticks": ""
             }
            },
            "type": "scattergl"
           }
          ],
          "scattermap": [
           {
            "marker": {
             "colorbar": {
              "outlinewidth": 0,
              "ticks": ""
             }
            },
            "type": "scattermap"
           }
          ],
          "scattermapbox": [
           {
            "marker": {
             "colorbar": {
              "outlinewidth": 0,
              "ticks": ""
             }
            },
            "type": "scattermapbox"
           }
          ],
          "scatterpolar": [
           {
            "marker": {
             "colorbar": {
              "outlinewidth": 0,
              "ticks": ""
             }
            },
            "type": "scatterpolar"
           }
          ],
          "scatterpolargl": [
           {
            "marker": {
             "colorbar": {
              "outlinewidth": 0,
              "ticks": ""
             }
            },
            "type": "scatterpolargl"
           }
          ],
          "scatterternary": [
           {
            "marker": {
             "colorbar": {
              "outlinewidth": 0,
              "ticks": ""
             }
            },
            "type": "scatterternary"
           }
          ],
          "surface": [
           {
            "colorbar": {
             "outlinewidth": 0,
             "ticks": ""
            },
            "colorscale": [
             [
              0,
              "#0d0887"
             ],
             [
              0.1111111111111111,
              "#46039f"
             ],
             [
              0.2222222222222222,
              "#7201a8"
             ],
             [
              0.3333333333333333,
              "#9c179e"
             ],
             [
              0.4444444444444444,
              "#bd3786"
             ],
             [
              0.5555555555555556,
              "#d8576b"
             ],
             [
              0.6666666666666666,
              "#ed7953"
             ],
             [
              0.7777777777777778,
              "#fb9f3a"
             ],
             [
              0.8888888888888888,
              "#fdca26"
             ],
             [
              1,
              "#f0f921"
             ]
            ],
            "type": "surface"
           }
          ],
          "table": [
           {
            "cells": {
             "fill": {
              "color": "#EBF0F8"
             },
             "line": {
              "color": "white"
             }
            },
            "header": {
             "fill": {
              "color": "#C8D4E3"
             },
             "line": {
              "color": "white"
             }
            },
            "type": "table"
           }
          ]
         },
         "layout": {
          "annotationdefaults": {
           "arrowcolor": "#2a3f5f",
           "arrowhead": 0,
           "arrowwidth": 1
          },
          "autotypenumbers": "strict",
          "coloraxis": {
           "colorbar": {
            "outlinewidth": 0,
            "ticks": ""
           }
          },
          "colorscale": {
           "diverging": [
            [
             0,
             "#8e0152"
            ],
            [
             0.1,
             "#c51b7d"
            ],
            [
             0.2,
             "#de77ae"
            ],
            [
             0.3,
             "#f1b6da"
            ],
            [
             0.4,
             "#fde0ef"
            ],
            [
             0.5,
             "#f7f7f7"
            ],
            [
             0.6,
             "#e6f5d0"
            ],
            [
             0.7,
             "#b8e186"
            ],
            [
             0.8,
             "#7fbc41"
            ],
            [
             0.9,
             "#4d9221"
            ],
            [
             1,
             "#276419"
            ]
           ],
           "sequential": [
            [
             0,
             "#0d0887"
            ],
            [
             0.1111111111111111,
             "#46039f"
            ],
            [
             0.2222222222222222,
             "#7201a8"
            ],
            [
             0.3333333333333333,
             "#9c179e"
            ],
            [
             0.4444444444444444,
             "#bd3786"
            ],
            [
             0.5555555555555556,
             "#d8576b"
            ],
            [
             0.6666666666666666,
             "#ed7953"
            ],
            [
             0.7777777777777778,
             "#fb9f3a"
            ],
            [
             0.8888888888888888,
             "#fdca26"
            ],
            [
             1,
             "#f0f921"
            ]
           ],
           "sequentialminus": [
            [
             0,
             "#0d0887"
            ],
            [
             0.1111111111111111,
             "#46039f"
            ],
            [
             0.2222222222222222,
             "#7201a8"
            ],
            [
             0.3333333333333333,
             "#9c179e"
            ],
            [
             0.4444444444444444,
             "#bd3786"
            ],
            [
             0.5555555555555556,
             "#d8576b"
            ],
            [
             0.6666666666666666,
             "#ed7953"
            ],
            [
             0.7777777777777778,
             "#fb9f3a"
            ],
            [
             0.8888888888888888,
             "#fdca26"
            ],
            [
             1,
             "#f0f921"
            ]
           ]
          },
          "colorway": [
           "#636efa",
           "#EF553B",
           "#00cc96",
           "#ab63fa",
           "#FFA15A",
           "#19d3f3",
           "#FF6692",
           "#B6E880",
           "#FF97FF",
           "#FECB52"
          ],
          "font": {
           "color": "#2a3f5f"
          },
          "geo": {
           "bgcolor": "white",
           "lakecolor": "white",
           "landcolor": "white",
           "showlakes": true,
           "showland": true,
           "subunitcolor": "#C8D4E3"
          },
          "hoverlabel": {
           "align": "left"
          },
          "hovermode": "closest",
          "mapbox": {
           "style": "light"
          },
          "paper_bgcolor": "white",
          "plot_bgcolor": "white",
          "polar": {
           "angularaxis": {
            "gridcolor": "#EBF0F8",
            "linecolor": "#EBF0F8",
            "ticks": ""
           },
           "bgcolor": "white",
           "radialaxis": {
            "gridcolor": "#EBF0F8",
            "linecolor": "#EBF0F8",
            "ticks": ""
           }
          },
          "scene": {
           "xaxis": {
            "backgroundcolor": "white",
            "gridcolor": "#DFE8F3",
            "gridwidth": 2,
            "linecolor": "#EBF0F8",
            "showbackground": true,
            "ticks": "",
            "zerolinecolor": "#EBF0F8"
           },
           "yaxis": {
            "backgroundcolor": "white",
            "gridcolor": "#DFE8F3",
            "gridwidth": 2,
            "linecolor": "#EBF0F8",
            "showbackground": true,
            "ticks": "",
            "zerolinecolor": "#EBF0F8"
           },
           "zaxis": {
            "backgroundcolor": "white",
            "gridcolor": "#DFE8F3",
            "gridwidth": 2,
            "linecolor": "#EBF0F8",
            "showbackground": true,
            "ticks": "",
            "zerolinecolor": "#EBF0F8"
           }
          },
          "shapedefaults": {
           "line": {
            "color": "#2a3f5f"
           }
          },
          "ternary": {
           "aaxis": {
            "gridcolor": "#DFE8F3",
            "linecolor": "#A2B1C6",
            "ticks": ""
           },
           "baxis": {
            "gridcolor": "#DFE8F3",
            "linecolor": "#A2B1C6",
            "ticks": ""
           },
           "bgcolor": "white",
           "caxis": {
            "gridcolor": "#DFE8F3",
            "linecolor": "#A2B1C6",
            "ticks": ""
           }
          },
          "title": {
           "x": 0.05
          },
          "xaxis": {
           "automargin": true,
           "gridcolor": "#EBF0F8",
           "linecolor": "#EBF0F8",
           "ticks": "",
           "title": {
            "standoff": 15
           },
           "zerolinecolor": "#EBF0F8",
           "zerolinewidth": 2
          },
          "yaxis": {
           "automargin": true,
           "gridcolor": "#EBF0F8",
           "linecolor": "#EBF0F8",
           "ticks": "",
           "title": {
            "standoff": 15
           },
           "zerolinecolor": "#EBF0F8",
           "zerolinewidth": 2
          }
         }
        },
        "title": {
         "text": "Top 20 trigramas em características de produto antes da remoção de 'stop words'"
        },
        "xaxis": {
         "anchor": "y",
         "domain": [
          0,
          1
         ],
         "title": {
          "text": "Palavras"
         }
        },
        "yaxis": {
         "anchor": "x",
         "domain": [
          0,
          1
         ],
         "title": {
          "text": "Contagem"
         }
        }
       }
      }
     },
     "metadata": {},
     "output_type": "display_data"
    }
   ],
   "source": [
    "def get_top_n_trigram(corpus, n=None):\n",
    "    vec = CountVectorizer(ngram_range=(3, 3)).fit(corpus)\n",
    "    bag_of_words = vec.transform(corpus)\n",
    "    sum_words = bag_of_words.sum(axis=0)\n",
    "    words_freq = [(word, sum_words[0, idx]) for word, idx in vec.vocabulary_.items()]\n",
    "    words_freq = sorted(words_freq, key = lambda x: x[1], reverse=True)\n",
    "    return words_freq[:n]\n",
    "\n",
    "common_words = get_top_n_trigram(dfMeta['CARACTERISTICAS'], 20)\n",
    "df1 = pd.DataFrame(common_words, columns = ['CARACTERISTICAS', 'count'])\n",
    "plotBarCountCaracteristicas(df1, \"Top 20 trigramas em características de produto antes da remoção de 'stop words'\")"
   ]
  },
  {
   "cell_type": "code",
   "execution_count": null,
   "id": "4f4584f6-5136-4834-8845-e5d328a4ce6c",
   "metadata": {},
   "outputs": [
    {
     "data": {
      "application/vnd.plotly.v1+json": {
       "config": {
        "plotlyServerURL": "https://plot.ly"
       },
       "data": [
        {
         "hovertemplate": "Palavras=%{x}<br>Contagem=%{y}<extra></extra>",
         "legendgroup": "",
         "marker": {
          "color": "black",
          "pattern": {
           "shape": ""
          }
         },
         "name": "",
         "orientation": "v",
         "showlegend": false,
         "textposition": "auto",
         "type": "bar",
         "x": [
          "feel free contact",
          "tumble dry low",
          "new york times",
          "high quality material",
          "machine wash cold",
          "high quality materials",
          "closure machine wash",
          "living room bedroom",
          "easy care machine",
          "series series series",
          "100 satisfaction guarantee",
          "compatible samsung galaxy",
          "indoor outdoor use",
          "wash cold water",
          "material high quality",
          "gift family friends",
          "york times bestselling",
          "100 money guarantee",
          "bedroom living room",
          "friendly customer service"
         ],
         "xaxis": "x",
         "y": {
          "bdata": "QAduBCMDwAKrAv8B+wH2Ac4BwgGoAYcBgwGCAXQBbgFjAVkBVwFNAQ==",
          "dtype": "i2"
         },
         "yaxis": "y"
        }
       ],
       "layout": {
        "barmode": "relative",
        "legend": {
         "tracegroupgap": 0
        },
        "template": {
         "data": {
          "bar": [
           {
            "error_x": {
             "color": "#2a3f5f"
            },
            "error_y": {
             "color": "#2a3f5f"
            },
            "marker": {
             "line": {
              "color": "white",
              "width": 0.5
             },
             "pattern": {
              "fillmode": "overlay",
              "size": 10,
              "solidity": 0.2
             }
            },
            "type": "bar"
           }
          ],
          "barpolar": [
           {
            "marker": {
             "line": {
              "color": "white",
              "width": 0.5
             },
             "pattern": {
              "fillmode": "overlay",
              "size": 10,
              "solidity": 0.2
             }
            },
            "type": "barpolar"
           }
          ],
          "carpet": [
           {
            "aaxis": {
             "endlinecolor": "#2a3f5f",
             "gridcolor": "#C8D4E3",
             "linecolor": "#C8D4E3",
             "minorgridcolor": "#C8D4E3",
             "startlinecolor": "#2a3f5f"
            },
            "baxis": {
             "endlinecolor": "#2a3f5f",
             "gridcolor": "#C8D4E3",
             "linecolor": "#C8D4E3",
             "minorgridcolor": "#C8D4E3",
             "startlinecolor": "#2a3f5f"
            },
            "type": "carpet"
           }
          ],
          "choropleth": [
           {
            "colorbar": {
             "outlinewidth": 0,
             "ticks": ""
            },
            "type": "choropleth"
           }
          ],
          "contour": [
           {
            "colorbar": {
             "outlinewidth": 0,
             "ticks": ""
            },
            "colorscale": [
             [
              0,
              "#0d0887"
             ],
             [
              0.1111111111111111,
              "#46039f"
             ],
             [
              0.2222222222222222,
              "#7201a8"
             ],
             [
              0.3333333333333333,
              "#9c179e"
             ],
             [
              0.4444444444444444,
              "#bd3786"
             ],
             [
              0.5555555555555556,
              "#d8576b"
             ],
             [
              0.6666666666666666,
              "#ed7953"
             ],
             [
              0.7777777777777778,
              "#fb9f3a"
             ],
             [
              0.8888888888888888,
              "#fdca26"
             ],
             [
              1,
              "#f0f921"
             ]
            ],
            "type": "contour"
           }
          ],
          "contourcarpet": [
           {
            "colorbar": {
             "outlinewidth": 0,
             "ticks": ""
            },
            "type": "contourcarpet"
           }
          ],
          "heatmap": [
           {
            "colorbar": {
             "outlinewidth": 0,
             "ticks": ""
            },
            "colorscale": [
             [
              0,
              "#0d0887"
             ],
             [
              0.1111111111111111,
              "#46039f"
             ],
             [
              0.2222222222222222,
              "#7201a8"
             ],
             [
              0.3333333333333333,
              "#9c179e"
             ],
             [
              0.4444444444444444,
              "#bd3786"
             ],
             [
              0.5555555555555556,
              "#d8576b"
             ],
             [
              0.6666666666666666,
              "#ed7953"
             ],
             [
              0.7777777777777778,
              "#fb9f3a"
             ],
             [
              0.8888888888888888,
              "#fdca26"
             ],
             [
              1,
              "#f0f921"
             ]
            ],
            "type": "heatmap"
           }
          ],
          "histogram": [
           {
            "marker": {
             "pattern": {
              "fillmode": "overlay",
              "size": 10,
              "solidity": 0.2
             }
            },
            "type": "histogram"
           }
          ],
          "histogram2d": [
           {
            "colorbar": {
             "outlinewidth": 0,
             "ticks": ""
            },
            "colorscale": [
             [
              0,
              "#0d0887"
             ],
             [
              0.1111111111111111,
              "#46039f"
             ],
             [
              0.2222222222222222,
              "#7201a8"
             ],
             [
              0.3333333333333333,
              "#9c179e"
             ],
             [
              0.4444444444444444,
              "#bd3786"
             ],
             [
              0.5555555555555556,
              "#d8576b"
             ],
             [
              0.6666666666666666,
              "#ed7953"
             ],
             [
              0.7777777777777778,
              "#fb9f3a"
             ],
             [
              0.8888888888888888,
              "#fdca26"
             ],
             [
              1,
              "#f0f921"
             ]
            ],
            "type": "histogram2d"
           }
          ],
          "histogram2dcontour": [
           {
            "colorbar": {
             "outlinewidth": 0,
             "ticks": ""
            },
            "colorscale": [
             [
              0,
              "#0d0887"
             ],
             [
              0.1111111111111111,
              "#46039f"
             ],
             [
              0.2222222222222222,
              "#7201a8"
             ],
             [
              0.3333333333333333,
              "#9c179e"
             ],
             [
              0.4444444444444444,
              "#bd3786"
             ],
             [
              0.5555555555555556,
              "#d8576b"
             ],
             [
              0.6666666666666666,
              "#ed7953"
             ],
             [
              0.7777777777777778,
              "#fb9f3a"
             ],
             [
              0.8888888888888888,
              "#fdca26"
             ],
             [
              1,
              "#f0f921"
             ]
            ],
            "type": "histogram2dcontour"
           }
          ],
          "mesh3d": [
           {
            "colorbar": {
             "outlinewidth": 0,
             "ticks": ""
            },
            "type": "mesh3d"
           }
          ],
          "parcoords": [
           {
            "line": {
             "colorbar": {
              "outlinewidth": 0,
              "ticks": ""
             }
            },
            "type": "parcoords"
           }
          ],
          "pie": [
           {
            "automargin": true,
            "type": "pie"
           }
          ],
          "scatter": [
           {
            "fillpattern": {
             "fillmode": "overlay",
             "size": 10,
             "solidity": 0.2
            },
            "type": "scatter"
           }
          ],
          "scatter3d": [
           {
            "line": {
             "colorbar": {
              "outlinewidth": 0,
              "ticks": ""
             }
            },
            "marker": {
             "colorbar": {
              "outlinewidth": 0,
              "ticks": ""
             }
            },
            "type": "scatter3d"
           }
          ],
          "scattercarpet": [
           {
            "marker": {
             "colorbar": {
              "outlinewidth": 0,
              "ticks": ""
             }
            },
            "type": "scattercarpet"
           }
          ],
          "scattergeo": [
           {
            "marker": {
             "colorbar": {
              "outlinewidth": 0,
              "ticks": ""
             }
            },
            "type": "scattergeo"
           }
          ],
          "scattergl": [
           {
            "marker": {
             "colorbar": {
              "outlinewidth": 0,
              "ticks": ""
             }
            },
            "type": "scattergl"
           }
          ],
          "scattermap": [
           {
            "marker": {
             "colorbar": {
              "outlinewidth": 0,
              "ticks": ""
             }
            },
            "type": "scattermap"
           }
          ],
          "scattermapbox": [
           {
            "marker": {
             "colorbar": {
              "outlinewidth": 0,
              "ticks": ""
             }
            },
            "type": "scattermapbox"
           }
          ],
          "scatterpolar": [
           {
            "marker": {
             "colorbar": {
              "outlinewidth": 0,
              "ticks": ""
             }
            },
            "type": "scatterpolar"
           }
          ],
          "scatterpolargl": [
           {
            "marker": {
             "colorbar": {
              "outlinewidth": 0,
              "ticks": ""
             }
            },
            "type": "scatterpolargl"
           }
          ],
          "scatterternary": [
           {
            "marker": {
             "colorbar": {
              "outlinewidth": 0,
              "ticks": ""
             }
            },
            "type": "scatterternary"
           }
          ],
          "surface": [
           {
            "colorbar": {
             "outlinewidth": 0,
             "ticks": ""
            },
            "colorscale": [
             [
              0,
              "#0d0887"
             ],
             [
              0.1111111111111111,
              "#46039f"
             ],
             [
              0.2222222222222222,
              "#7201a8"
             ],
             [
              0.3333333333333333,
              "#9c179e"
             ],
             [
              0.4444444444444444,
              "#bd3786"
             ],
             [
              0.5555555555555556,
              "#d8576b"
             ],
             [
              0.6666666666666666,
              "#ed7953"
             ],
             [
              0.7777777777777778,
              "#fb9f3a"
             ],
             [
              0.8888888888888888,
              "#fdca26"
             ],
             [
              1,
              "#f0f921"
             ]
            ],
            "type": "surface"
           }
          ],
          "table": [
           {
            "cells": {
             "fill": {
              "color": "#EBF0F8"
             },
             "line": {
              "color": "white"
             }
            },
            "header": {
             "fill": {
              "color": "#C8D4E3"
             },
             "line": {
              "color": "white"
             }
            },
            "type": "table"
           }
          ]
         },
         "layout": {
          "annotationdefaults": {
           "arrowcolor": "#2a3f5f",
           "arrowhead": 0,
           "arrowwidth": 1
          },
          "autotypenumbers": "strict",
          "coloraxis": {
           "colorbar": {
            "outlinewidth": 0,
            "ticks": ""
           }
          },
          "colorscale": {
           "diverging": [
            [
             0,
             "#8e0152"
            ],
            [
             0.1,
             "#c51b7d"
            ],
            [
             0.2,
             "#de77ae"
            ],
            [
             0.3,
             "#f1b6da"
            ],
            [
             0.4,
             "#fde0ef"
            ],
            [
             0.5,
             "#f7f7f7"
            ],
            [
             0.6,
             "#e6f5d0"
            ],
            [
             0.7,
             "#b8e186"
            ],
            [
             0.8,
             "#7fbc41"
            ],
            [
             0.9,
             "#4d9221"
            ],
            [
             1,
             "#276419"
            ]
           ],
           "sequential": [
            [
             0,
             "#0d0887"
            ],
            [
             0.1111111111111111,
             "#46039f"
            ],
            [
             0.2222222222222222,
             "#7201a8"
            ],
            [
             0.3333333333333333,
             "#9c179e"
            ],
            [
             0.4444444444444444,
             "#bd3786"
            ],
            [
             0.5555555555555556,
             "#d8576b"
            ],
            [
             0.6666666666666666,
             "#ed7953"
            ],
            [
             0.7777777777777778,
             "#fb9f3a"
            ],
            [
             0.8888888888888888,
             "#fdca26"
            ],
            [
             1,
             "#f0f921"
            ]
           ],
           "sequentialminus": [
            [
             0,
             "#0d0887"
            ],
            [
             0.1111111111111111,
             "#46039f"
            ],
            [
             0.2222222222222222,
             "#7201a8"
            ],
            [
             0.3333333333333333,
             "#9c179e"
            ],
            [
             0.4444444444444444,
             "#bd3786"
            ],
            [
             0.5555555555555556,
             "#d8576b"
            ],
            [
             0.6666666666666666,
             "#ed7953"
            ],
            [
             0.7777777777777778,
             "#fb9f3a"
            ],
            [
             0.8888888888888888,
             "#fdca26"
            ],
            [
             1,
             "#f0f921"
            ]
           ]
          },
          "colorway": [
           "#636efa",
           "#EF553B",
           "#00cc96",
           "#ab63fa",
           "#FFA15A",
           "#19d3f3",
           "#FF6692",
           "#B6E880",
           "#FF97FF",
           "#FECB52"
          ],
          "font": {
           "color": "#2a3f5f"
          },
          "geo": {
           "bgcolor": "white",
           "lakecolor": "white",
           "landcolor": "white",
           "showlakes": true,
           "showland": true,
           "subunitcolor": "#C8D4E3"
          },
          "hoverlabel": {
           "align": "left"
          },
          "hovermode": "closest",
          "mapbox": {
           "style": "light"
          },
          "paper_bgcolor": "white",
          "plot_bgcolor": "white",
          "polar": {
           "angularaxis": {
            "gridcolor": "#EBF0F8",
            "linecolor": "#EBF0F8",
            "ticks": ""
           },
           "bgcolor": "white",
           "radialaxis": {
            "gridcolor": "#EBF0F8",
            "linecolor": "#EBF0F8",
            "ticks": ""
           }
          },
          "scene": {
           "xaxis": {
            "backgroundcolor": "white",
            "gridcolor": "#DFE8F3",
            "gridwidth": 2,
            "linecolor": "#EBF0F8",
            "showbackground": true,
            "ticks": "",
            "zerolinecolor": "#EBF0F8"
           },
           "yaxis": {
            "backgroundcolor": "white",
            "gridcolor": "#DFE8F3",
            "gridwidth": 2,
            "linecolor": "#EBF0F8",
            "showbackground": true,
            "ticks": "",
            "zerolinecolor": "#EBF0F8"
           },
           "zaxis": {
            "backgroundcolor": "white",
            "gridcolor": "#DFE8F3",
            "gridwidth": 2,
            "linecolor": "#EBF0F8",
            "showbackground": true,
            "ticks": "",
            "zerolinecolor": "#EBF0F8"
           }
          },
          "shapedefaults": {
           "line": {
            "color": "#2a3f5f"
           }
          },
          "ternary": {
           "aaxis": {
            "gridcolor": "#DFE8F3",
            "linecolor": "#A2B1C6",
            "ticks": ""
           },
           "baxis": {
            "gridcolor": "#DFE8F3",
            "linecolor": "#A2B1C6",
            "ticks": ""
           },
           "bgcolor": "white",
           "caxis": {
            "gridcolor": "#DFE8F3",
            "linecolor": "#A2B1C6",
            "ticks": ""
           }
          },
          "title": {
           "x": 0.05
          },
          "xaxis": {
           "automargin": true,
           "gridcolor": "#EBF0F8",
           "linecolor": "#EBF0F8",
           "ticks": "",
           "title": {
            "standoff": 15
           },
           "zerolinecolor": "#EBF0F8",
           "zerolinewidth": 2
          },
          "yaxis": {
           "automargin": true,
           "gridcolor": "#EBF0F8",
           "linecolor": "#EBF0F8",
           "ticks": "",
           "title": {
            "standoff": 15
           },
           "zerolinecolor": "#EBF0F8",
           "zerolinewidth": 2
          }
         }
        },
        "title": {
         "text": "Top 20 trigramas em características de produto depois da remoção de 'stop words'"
        },
        "xaxis": {
         "anchor": "y",
         "domain": [
          0,
          1
         ],
         "title": {
          "text": "Palavras"
         }
        },
        "yaxis": {
         "anchor": "x",
         "domain": [
          0,
          1
         ],
         "title": {
          "text": "Contagem"
         }
        }
       }
      }
     },
     "metadata": {},
     "output_type": "display_data"
    }
   ],
   "source": [
    "def get_top_n_trigrams(corpus, n=None):\n",
    "\n",
    "    # Define as stopwords padrão do inglês\n",
    "    stop_words = set(CountVectorizer(stop_words='english').get_stop_words())\n",
    "    #Adicionando palavras que não trazem valor\n",
    "    stop_words.add(\"amazon\")\n",
    "    stop_words.add(\"com\")\n",
    "\n",
    "    # Converte o conjunto de stopwords para uma lista\n",
    "    stop_words = list(stop_words)\n",
    "\n",
    "     # Inicializa o CountVectorizer com as stopwords personalizadas\n",
    "    vec = CountVectorizer(ngram_range=(3, 3), stop_words=stop_words).fit(corpus)\n",
    "\n",
    "    # Calcula a frequência das palavras\n",
    "    bag_of_words = vec.transform(corpus)\n",
    "    sum_words = bag_of_words.sum(axis=0)\n",
    "    words_freq = [(word, sum_words[0, idx]) for word, idx in vec.vocabulary_.items()]\n",
    "    \n",
    "    # Ordena as palavras pela frequência\n",
    "    words_freq = sorted(words_freq, key = lambda x: x[1], reverse=True)\n",
    "    \n",
    "    return words_freq[:n]\n",
    "\n",
    "common_words = get_top_n_trigrams(dfMeta['CARACTERISTICAS'], 20)\n",
    "df1 = pd.DataFrame(common_words, columns = ['CARACTERISTICAS', 'count'])\n",
    "plotBarCountCaracteristicas(df1, \"Top 20 trigramas em características de produto depois da remoção de 'stop words'\")"
   ]
  },
  {
   "cell_type": "markdown",
   "id": "fc6bd549-9106-4bcd-bf9e-a0d4ac601bf0",
   "metadata": {},
   "source": [
    "### Limpeza de dados de texto"
   ]
  },
  {
   "cell_type": "code",
   "execution_count": 9,
   "id": "0323bd1e-82f9-4374-a281-13985852e1ad",
   "metadata": {
    "scrolled": true
   },
   "outputs": [
    {
     "data": {
      "text/html": [
       "<div>\n",
       "<style scoped>\n",
       "    .dataframe tbody tr th:only-of-type {\n",
       "        vertical-align: middle;\n",
       "    }\n",
       "\n",
       "    .dataframe tbody tr th {\n",
       "        vertical-align: top;\n",
       "    }\n",
       "\n",
       "    .dataframe thead th {\n",
       "        text-align: right;\n",
       "    }\n",
       "</style>\n",
       "<table border=\"1\" class=\"dataframe\">\n",
       "  <thead>\n",
       "    <tr style=\"text-align: right;\">\n",
       "      <th></th>\n",
       "      <th>TITULO</th>\n",
       "      <th>MEDIA_VOTOS</th>\n",
       "      <th>QTD_AVALIACOES</th>\n",
       "      <th>CARACTERISTICAS</th>\n",
       "      <th>DESCRICAO</th>\n",
       "      <th>LOJA</th>\n",
       "      <th>DETALHES</th>\n",
       "      <th>CATEGORIAS</th>\n",
       "    </tr>\n",
       "  </thead>\n",
       "  <tbody>\n",
       "    <tr>\n",
       "      <th>52011</th>\n",
       "      <td>Electric Can Opener, Restaurant Can Opener, Fu...</td>\n",
       "      <td>2.7</td>\n",
       "      <td>23</td>\n",
       "      <td></td>\n",
       "      <td></td>\n",
       "      <td>W-Dragon</td>\n",
       "      <td>Date First Available, Color, Material, Brand, ...</td>\n",
       "      <td>Home &amp; Kitchen, Kitchen &amp; Dining, Kitchen Uten...</td>\n",
       "    </tr>\n",
       "    <tr>\n",
       "      <th>67694</th>\n",
       "      <td>PAPAISON Roller Skates for Women and Men, Delu...</td>\n",
       "      <td>4.6</td>\n",
       "      <td>720</td>\n",
       "      <td>【RETRO STYLE 】 Classic high top double-row rol...</td>\n",
       "      <td></td>\n",
       "      <td>PAPAISON</td>\n",
       "      <td>Size, Color, Brand, Wheel Material, Wheel Type...</td>\n",
       "      <td>Sports &amp; Outdoors, Sports, Skates, Skateboards...</td>\n",
       "    </tr>\n",
       "    <tr>\n",
       "      <th>3050</th>\n",
       "      <td>Dewhel Sport Front Bumper Tow Hook License Pla...</td>\n",
       "      <td>3.4</td>\n",
       "      <td>166</td>\n",
       "      <td>High quality aluminum Tow hook License Plate,B...</td>\n",
       "      <td>Tow Hook License Plate Fitments:2000-2009 Hond...</td>\n",
       "      <td>DEWHEL</td>\n",
       "      <td>Manufacturer, Brand, Item Weight, Package Dime...</td>\n",
       "      <td>Automotive, Exterior Accessories, License Plat...</td>\n",
       "    </tr>\n",
       "    <tr>\n",
       "      <th>66635</th>\n",
       "      <td>JR Studio 3x5 inch Yellow Combat Vet Tab Shape...</td>\n",
       "      <td>4.2</td>\n",
       "      <td>13</td>\n",
       "      <td>Size: Check Item title - Professionally made i...</td>\n",
       "      <td></td>\n",
       "      <td>JR Studio</td>\n",
       "      <td>Brand, Color, Room Type, Recommended Uses For ...</td>\n",
       "      <td>Sports &amp; Outdoors, Fan Shop, Auto Accessories,...</td>\n",
       "    </tr>\n",
       "    <tr>\n",
       "      <th>64560</th>\n",
       "      <td>Horsemen's Pride Horse Feed Tub, Small, 18 Qua...</td>\n",
       "      <td>4.4</td>\n",
       "      <td>36</td>\n",
       "      <td>This small/mini feed tub measures 14 inches ac...</td>\n",
       "      <td>The Small Feed Tub measures 14 inches across (...</td>\n",
       "      <td>Jolly Pets</td>\n",
       "      <td>Product Dimensions, Item model number, Date Fi...</td>\n",
       "      <td>Pet Supplies, Horses, Stable Supplies, Feeding...</td>\n",
       "    </tr>\n",
       "    <tr>\n",
       "      <th>59776</th>\n",
       "      <td>pingpi Gaming Mouse Pad Custom, The Romantic T...</td>\n",
       "      <td>4.8</td>\n",
       "      <td>3173</td>\n",
       "      <td>MousePad Size: 9.5\"x7.9\"( 240mm x 200mm x 3mm)...</td>\n",
       "      <td>Welcome to Pingpi store to order Mouse Pad. We...</td>\n",
       "      <td>pingpi</td>\n",
       "      <td>Manufacturer, Brand, Item Weight, Product Dime...</td>\n",
       "      <td>Office Products, Office &amp; School Supplies, Des...</td>\n",
       "    </tr>\n",
       "    <tr>\n",
       "      <th>9801</th>\n",
       "      <td>DC Nation Presents DC Future State #1</td>\n",
       "      <td>4.2</td>\n",
       "      <td>230</td>\n",
       "      <td></td>\n",
       "      <td></td>\n",
       "      <td>Various (Author)</td>\n",
       "      <td>Publisher, Language, Item Weight</td>\n",
       "      <td>Books</td>\n",
       "    </tr>\n",
       "    <tr>\n",
       "      <th>70758</th>\n",
       "      <td>Bionic Body Workout Bar for Power Lifting Stre...</td>\n",
       "      <td>4.1</td>\n",
       "      <td>22</td>\n",
       "      <td>SOLID CONSTRUCTION – 36” bar high-quality stee...</td>\n",
       "      <td>Get a full body workout with the Bionic Body E...</td>\n",
       "      <td>BIONIC BODY</td>\n",
       "      <td>Item Package Dimensions L x W x H, Package Wei...</td>\n",
       "      <td>Sports &amp; Outdoors, Exercise &amp; Fitness, Strengt...</td>\n",
       "    </tr>\n",
       "    <tr>\n",
       "      <th>26357</th>\n",
       "      <td>Cool &amp; Unusual</td>\n",
       "      <td>5.0</td>\n",
       "      <td>11</td>\n",
       "      <td></td>\n",
       "      <td></td>\n",
       "      <td>Martin Simpson   Format: Audio CD</td>\n",
       "      <td>Is Discontinued By Manufacturer, Language, Pro...</td>\n",
       "      <td>CDs &amp; Vinyl, Folk, British &amp; Celtic Folk, Brit...</td>\n",
       "    </tr>\n",
       "    <tr>\n",
       "      <th>44481</th>\n",
       "      <td>ALEXANDRA'S SECRET HOME COLLECTION Microfiber ...</td>\n",
       "      <td>4.6</td>\n",
       "      <td>2086</td>\n",
       "      <td>Microfiber, Standard-(20\" x 26\"), Queen-(20\" x...</td>\n",
       "      <td></td>\n",
       "      <td>ALEXANDRA'S SECRET HOME COLLECTION</td>\n",
       "      <td>Brand, Material, Size, Color, Closure Type, Ca...</td>\n",
       "      <td>Home &amp; Kitchen, Bedding, Decorative Pillows, I...</td>\n",
       "    </tr>\n",
       "    <tr>\n",
       "      <th>21096</th>\n",
       "      <td>A Song at Twilight</td>\n",
       "      <td>4.4</td>\n",
       "      <td>136</td>\n",
       "      <td>It is 1943 and the quiet of Harrowbeer, in Dev...</td>\n",
       "      <td>About the Author, Lilian Harry's other titles ...</td>\n",
       "      <td>Lilian Harry (Author)</td>\n",
       "      <td>Publisher, Language, Paperback, ISBN 10, ISBN ...</td>\n",
       "      <td>Books, Literature &amp; Fiction, Genre Fiction</td>\n",
       "    </tr>\n",
       "    <tr>\n",
       "      <th>45125</th>\n",
       "      <td>Christmas Buffalo Plaid Shower Curtain, Red Bl...</td>\n",
       "      <td>4.3</td>\n",
       "      <td>26</td>\n",
       "      <td>Easy to hang and care: this shower curtains co...</td>\n",
       "      <td>Christmas shower curtain red black checked bat...</td>\n",
       "      <td>Tatuo</td>\n",
       "      <td>Brand, Material, Product Dimensions, Special F...</td>\n",
       "      <td>Home &amp; Kitchen, Bath, Bathroom Accessories, Sh...</td>\n",
       "    </tr>\n",
       "    <tr>\n",
       "      <th>2436</th>\n",
       "      <td>Towever 83801 RV Bumper Hitch Receiver 2 inche...</td>\n",
       "      <td>4.6</td>\n",
       "      <td>1475</td>\n",
       "      <td>This travel trailer RV accessories fits 4\"- 4....</td>\n",
       "      <td></td>\n",
       "      <td>Towever</td>\n",
       "      <td>Manufacturer, Brand, Item Weight, Product Dime...</td>\n",
       "      <td>Automotive, Exterior Accessories, Towing Produ...</td>\n",
       "    </tr>\n",
       "    <tr>\n",
       "      <th>7926</th>\n",
       "      <td>Borla 60521 Overaxle Pipe</td>\n",
       "      <td>4.5</td>\n",
       "      <td>13</td>\n",
       "      <td>Package Dimensions: 33.782 H x 153.67 L x 39.3...</td>\n",
       "      <td>Over axle pipe.</td>\n",
       "      <td>Borla</td>\n",
       "      <td>Manufacturer, Brand, Model, Item Weight, Count...</td>\n",
       "      <td>Automotive, Performance Parts &amp; Accessories, E...</td>\n",
       "    </tr>\n",
       "    <tr>\n",
       "      <th>65245</th>\n",
       "      <td>iMBG Dog Seat Belts for Car, Adjustable Nylon ...</td>\n",
       "      <td>4.7</td>\n",
       "      <td>95</td>\n",
       "      <td>Safely Seated---iMBG dog car seat belt provide...</td>\n",
       "      <td></td>\n",
       "      <td>iMBG</td>\n",
       "      <td>Color, Pattern, Brand, Material, Closure Type,...</td>\n",
       "      <td>Pet Supplies, Dogs, Collars, Harnesses &amp; Leash...</td>\n",
       "    </tr>\n",
       "    <tr>\n",
       "      <th>36574</th>\n",
       "      <td>Goliton®Backdoor and Floaty Sponge for GoPro H...</td>\n",
       "      <td>3.9</td>\n",
       "      <td>38</td>\n",
       "      <td>Floaty Backdoor keeps your camera safe and afl...</td>\n",
       "      <td>Feature :  Floaty Backdoor keeps your camera s...</td>\n",
       "      <td>Goliton</td>\n",
       "      <td>Product Dimensions, Item Weight, Item model nu...</td>\n",
       "      <td>Electronics, Camera &amp; Photo, Underwater Photog...</td>\n",
       "    </tr>\n",
       "    <tr>\n",
       "      <th>50276</th>\n",
       "      <td>Woven Trends Designer Home Window Panel Curtai...</td>\n",
       "      <td>4.6</td>\n",
       "      <td>180</td>\n",
       "      <td>✅STYLISH AND FUNCTIONAL - Whether your tastes ...</td>\n",
       "      <td>Looking for the best farmhouse décor out there...</td>\n",
       "      <td>Woven Trends</td>\n",
       "      <td>Brand, Color, Material, Product Dimensions, Sp...</td>\n",
       "      <td>Home &amp; Kitchen, Home Décor Products, Window Tr...</td>\n",
       "    </tr>\n",
       "    <tr>\n",
       "      <th>60901</th>\n",
       "      <td>1 Pair Black + Red 10AWG(6mm²) Solar Panel Ext...</td>\n",
       "      <td>4.7</td>\n",
       "      <td>52</td>\n",
       "      <td>UL Listed solar cable is designed for outdoor ...</td>\n",
       "      <td>Rated Voltage: TUV 1000V DC, Rating Current: 3...</td>\n",
       "      <td>RIOCAN</td>\n",
       "      <td>Manufacturer, Part Number, Item Weight, Packag...</td>\n",
       "      <td>Patio, Lawn &amp; Garden, Generators &amp; Portable Po...</td>\n",
       "    </tr>\n",
       "    <tr>\n",
       "      <th>12635</th>\n",
       "      <td>Ling &amp; Ting: Together in All Weather (Ling and...</td>\n",
       "      <td>4.7</td>\n",
       "      <td>71</td>\n",
       "      <td>Ling and Ting have fun, rain or shine, in the ...</td>\n",
       "      <td>About the Author, Grace Lin, is the award-winn...</td>\n",
       "      <td>Grace Lin (Author)</td>\n",
       "      <td>Publisher, Language, Hardcover, ISBN 10, ISBN ...</td>\n",
       "      <td>Books, Children's Books, Growing Up &amp; Facts of...</td>\n",
       "    </tr>\n",
       "    <tr>\n",
       "      <th>643</th>\n",
       "      <td>Maikun Belts Military Web Canvas Double D-Ring...</td>\n",
       "      <td>4.5</td>\n",
       "      <td>11</td>\n",
       "      <td>Wet Wipe Clean</td>\n",
       "      <td></td>\n",
       "      <td>maikun</td>\n",
       "      <td>Is Discontinued By Manufacturer, Product Dimen...</td>\n",
       "      <td>AMAZON FASHION</td>\n",
       "    </tr>\n",
       "  </tbody>\n",
       "</table>\n",
       "</div>"
      ],
      "text/plain": [
       "                                                  TITULO  MEDIA_VOTOS  \\\n",
       "52011  Electric Can Opener, Restaurant Can Opener, Fu...          2.7   \n",
       "67694  PAPAISON Roller Skates for Women and Men, Delu...          4.6   \n",
       "3050   Dewhel Sport Front Bumper Tow Hook License Pla...          3.4   \n",
       "66635  JR Studio 3x5 inch Yellow Combat Vet Tab Shape...          4.2   \n",
       "64560  Horsemen's Pride Horse Feed Tub, Small, 18 Qua...          4.4   \n",
       "59776  pingpi Gaming Mouse Pad Custom, The Romantic T...          4.8   \n",
       "9801               DC Nation Presents DC Future State #1          4.2   \n",
       "70758  Bionic Body Workout Bar for Power Lifting Stre...          4.1   \n",
       "26357                                     Cool & Unusual          5.0   \n",
       "44481  ALEXANDRA'S SECRET HOME COLLECTION Microfiber ...          4.6   \n",
       "21096                                 A Song at Twilight          4.4   \n",
       "45125  Christmas Buffalo Plaid Shower Curtain, Red Bl...          4.3   \n",
       "2436   Towever 83801 RV Bumper Hitch Receiver 2 inche...          4.6   \n",
       "7926                           Borla 60521 Overaxle Pipe          4.5   \n",
       "65245  iMBG Dog Seat Belts for Car, Adjustable Nylon ...          4.7   \n",
       "36574  Goliton®Backdoor and Floaty Sponge for GoPro H...          3.9   \n",
       "50276  Woven Trends Designer Home Window Panel Curtai...          4.6   \n",
       "60901  1 Pair Black + Red 10AWG(6mm²) Solar Panel Ext...          4.7   \n",
       "12635  Ling & Ting: Together in All Weather (Ling and...          4.7   \n",
       "643    Maikun Belts Military Web Canvas Double D-Ring...          4.5   \n",
       "\n",
       "       QTD_AVALIACOES                                    CARACTERISTICAS  \\\n",
       "52011              23                                                      \n",
       "67694             720  【RETRO STYLE 】 Classic high top double-row rol...   \n",
       "3050              166  High quality aluminum Tow hook License Plate,B...   \n",
       "66635              13  Size: Check Item title - Professionally made i...   \n",
       "64560              36  This small/mini feed tub measures 14 inches ac...   \n",
       "59776            3173  MousePad Size: 9.5\"x7.9\"( 240mm x 200mm x 3mm)...   \n",
       "9801              230                                                      \n",
       "70758              22  SOLID CONSTRUCTION – 36” bar high-quality stee...   \n",
       "26357              11                                                      \n",
       "44481            2086  Microfiber, Standard-(20\" x 26\"), Queen-(20\" x...   \n",
       "21096             136  It is 1943 and the quiet of Harrowbeer, in Dev...   \n",
       "45125              26  Easy to hang and care: this shower curtains co...   \n",
       "2436             1475  This travel trailer RV accessories fits 4\"- 4....   \n",
       "7926               13  Package Dimensions: 33.782 H x 153.67 L x 39.3...   \n",
       "65245              95  Safely Seated---iMBG dog car seat belt provide...   \n",
       "36574              38  Floaty Backdoor keeps your camera safe and afl...   \n",
       "50276             180  ✅STYLISH AND FUNCTIONAL - Whether your tastes ...   \n",
       "60901              52  UL Listed solar cable is designed for outdoor ...   \n",
       "12635              71  Ling and Ting have fun, rain or shine, in the ...   \n",
       "643                11                                     Wet Wipe Clean   \n",
       "\n",
       "                                               DESCRICAO  \\\n",
       "52011                                                      \n",
       "67694                                                      \n",
       "3050   Tow Hook License Plate Fitments:2000-2009 Hond...   \n",
       "66635                                                      \n",
       "64560  The Small Feed Tub measures 14 inches across (...   \n",
       "59776  Welcome to Pingpi store to order Mouse Pad. We...   \n",
       "9801                                                       \n",
       "70758  Get a full body workout with the Bionic Body E...   \n",
       "26357                                                      \n",
       "44481                                                      \n",
       "21096  About the Author, Lilian Harry's other titles ...   \n",
       "45125  Christmas shower curtain red black checked bat...   \n",
       "2436                                                       \n",
       "7926                                     Over axle pipe.   \n",
       "65245                                                      \n",
       "36574  Feature :  Floaty Backdoor keeps your camera s...   \n",
       "50276  Looking for the best farmhouse décor out there...   \n",
       "60901  Rated Voltage: TUV 1000V DC, Rating Current: 3...   \n",
       "12635  About the Author, Grace Lin, is the award-winn...   \n",
       "643                                                        \n",
       "\n",
       "                                     LOJA  \\\n",
       "52011                            W-Dragon   \n",
       "67694                            PAPAISON   \n",
       "3050                               DEWHEL   \n",
       "66635                           JR Studio   \n",
       "64560                          Jolly Pets   \n",
       "59776                              pingpi   \n",
       "9801                     Various (Author)   \n",
       "70758                         BIONIC BODY   \n",
       "26357   Martin Simpson   Format: Audio CD   \n",
       "44481  ALEXANDRA'S SECRET HOME COLLECTION   \n",
       "21096               Lilian Harry (Author)   \n",
       "45125                               Tatuo   \n",
       "2436                              Towever   \n",
       "7926                                Borla   \n",
       "65245                                iMBG   \n",
       "36574                             Goliton   \n",
       "50276                        Woven Trends   \n",
       "60901                              RIOCAN   \n",
       "12635                  Grace Lin (Author)   \n",
       "643                                maikun   \n",
       "\n",
       "                                                DETALHES  \\\n",
       "52011  Date First Available, Color, Material, Brand, ...   \n",
       "67694  Size, Color, Brand, Wheel Material, Wheel Type...   \n",
       "3050   Manufacturer, Brand, Item Weight, Package Dime...   \n",
       "66635  Brand, Color, Room Type, Recommended Uses For ...   \n",
       "64560  Product Dimensions, Item model number, Date Fi...   \n",
       "59776  Manufacturer, Brand, Item Weight, Product Dime...   \n",
       "9801                    Publisher, Language, Item Weight   \n",
       "70758  Item Package Dimensions L x W x H, Package Wei...   \n",
       "26357  Is Discontinued By Manufacturer, Language, Pro...   \n",
       "44481  Brand, Material, Size, Color, Closure Type, Ca...   \n",
       "21096  Publisher, Language, Paperback, ISBN 10, ISBN ...   \n",
       "45125  Brand, Material, Product Dimensions, Special F...   \n",
       "2436   Manufacturer, Brand, Item Weight, Product Dime...   \n",
       "7926   Manufacturer, Brand, Model, Item Weight, Count...   \n",
       "65245  Color, Pattern, Brand, Material, Closure Type,...   \n",
       "36574  Product Dimensions, Item Weight, Item model nu...   \n",
       "50276  Brand, Color, Material, Product Dimensions, Sp...   \n",
       "60901  Manufacturer, Part Number, Item Weight, Packag...   \n",
       "12635  Publisher, Language, Hardcover, ISBN 10, ISBN ...   \n",
       "643    Is Discontinued By Manufacturer, Product Dimen...   \n",
       "\n",
       "                                              CATEGORIAS  \n",
       "52011  Home & Kitchen, Kitchen & Dining, Kitchen Uten...  \n",
       "67694  Sports & Outdoors, Sports, Skates, Skateboards...  \n",
       "3050   Automotive, Exterior Accessories, License Plat...  \n",
       "66635  Sports & Outdoors, Fan Shop, Auto Accessories,...  \n",
       "64560  Pet Supplies, Horses, Stable Supplies, Feeding...  \n",
       "59776  Office Products, Office & School Supplies, Des...  \n",
       "9801                                               Books  \n",
       "70758  Sports & Outdoors, Exercise & Fitness, Strengt...  \n",
       "26357  CDs & Vinyl, Folk, British & Celtic Folk, Brit...  \n",
       "44481  Home & Kitchen, Bedding, Decorative Pillows, I...  \n",
       "21096         Books, Literature & Fiction, Genre Fiction  \n",
       "45125  Home & Kitchen, Bath, Bathroom Accessories, Sh...  \n",
       "2436   Automotive, Exterior Accessories, Towing Produ...  \n",
       "7926   Automotive, Performance Parts & Accessories, E...  \n",
       "65245  Pet Supplies, Dogs, Collars, Harnesses & Leash...  \n",
       "36574  Electronics, Camera & Photo, Underwater Photog...  \n",
       "50276  Home & Kitchen, Home Décor Products, Window Tr...  \n",
       "60901  Patio, Lawn & Garden, Generators & Portable Po...  \n",
       "12635  Books, Children's Books, Growing Up & Facts of...  \n",
       "643                                       AMAZON FASHION  "
      ]
     },
     "execution_count": 9,
     "metadata": {},
     "output_type": "execute_result"
    }
   ],
   "source": [
    "dfMeta.head(20)"
   ]
  },
  {
   "cell_type": "code",
   "execution_count": 15,
   "id": "8f17f45b-9c79-40f4-a3ea-7564501dedb4",
   "metadata": {},
   "outputs": [
    {
     "name": "stderr",
     "output_type": "stream",
     "text": [
      "[nltk_data] Downloading package stopwords to\n",
      "[nltk_data]     C:\\Users\\everson\\AppData\\Roaming\\nltk_data...\n",
      "[nltk_data]   Package stopwords is already up-to-date!\n"
     ]
    }
   ],
   "source": [
    "# Baixa os dados de stopwords, caso ainda não estejam disponíveis\n",
    "nltk.download('stopwords')\n",
    "\n",
    "REPLACE_BY_SPACE_RE = re.compile('[/(){}\\[\\]\\|@,;]')\n",
    "BAD_SYMBOLS_RE = re.compile('[^0-9a-z #+_]')\n",
    "STOPWORDS = set(stopwords.words('english'))\n",
    "ADDITIONALWORDS = list(['amazon', 'amazoncom'])\n",
    "\n",
    "def clean_text(text):\n",
    "    \"\"\"\n",
    "        text: uma string\n",
    "        return: versão limpa\n",
    "    \"\"\"\n",
    "\n",
    "    text = text.lower()\n",
    "    text = REPLACE_BY_SPACE_RE.sub(' ', text)\n",
    "    text = BAD_SYMBOLS_RE.sub('', text)\n",
    "    text = ' '.join(word for word in text.split() if word not in STOPWORDS and word not in ADDITIONALWORDS)\n",
    "    return text\n",
    "\n",
    "dfMeta['CARACTERISTICAS'] = dfMeta['CARACTERISTICAS'].apply(clean_text)\n",
    "dfMeta['DESCRICAO'] = dfMeta['DESCRICAO'].apply(clean_text)\n",
    "dfMeta['DETALHES'] = dfMeta['DETALHES'].apply(clean_text)\n",
    "\n",
    "#Drop de coluna não necessária\n",
    "dfMeta.drop('CATEGORIAS', axis=1, inplace=True)\n",
    "\n",
    "# Seleção de colunas relevantes e concatená-las em uma só utilizada pelo algoritmo\n",
    "dfMeta['CONCATENATED'] = dfMeta.apply(\n",
    "    lambda x: f\"{x['DESCRICAO']} {x['CARACTERISTICAS']} {x['DETALHES']} Store {x['LOJA']}\", axis=1)"
   ]
  },
  {
   "cell_type": "code",
   "execution_count": 16,
   "id": "eb7717b0-f18f-4a16-b4c2-986ad4a6cc73",
   "metadata": {},
   "outputs": [
    {
     "name": "stdout",
     "output_type": "stream",
     "text": [
      "Titulo:  2\n",
      "Caracteristicas:  false toenails durable perfect length option wear long clip short easy trim file length shape like abs kind green enviromental material makes nails durable breathable light even pressure nails fit well natural toenails non toxic smell harm health wonderful gift girlfriend family friends easiest efficient way toenail tips manicures nail art designs fashion creative useful accessory brighten look also gift\n",
      "Descricao:  description false toenails durable perfect length option wear long clip short easy trim file length shape like plus abs kind green enviromental material makes nails durable breathable light even pressure toenails fit well natural toenails non toxic smell harm health feature color shown material abs size 143 x 72 x 1cm package including 100 x pieces fake toenails\n",
      "Detalhes:  color size material brand style product dimensions upc manufacturer\n"
     ]
    }
   ],
   "source": [
    "def print_info(index):\n",
    "    if index not in dfMeta.index:\n",
    "        print(\"Elemento não encontrado\")\n",
    "        return\n",
    "    example = dfMeta[dfMeta.index == index][['CARACTERISTICAS', 'DESCRICAO', 'DETALHES']].values[0]\n",
    "    if len(example) > 0:\n",
    "        print('Titulo: ', index)\n",
    "        print('Caracteristicas: ', example[0])\n",
    "        print('Descricao: ', example[1])\n",
    "        print('Detalhes: ', example[2])\n",
    "print_info(2)"
   ]
  },
  {
   "cell_type": "code",
   "execution_count": 17,
   "id": "0f74d454-e5f5-42ed-b740-9b333e6945dc",
   "metadata": {},
   "outputs": [],
   "source": [
    "dfMeta.set_index('TITULO', inplace = True)"
   ]
  },
  {
   "cell_type": "markdown",
   "id": "4c6adcec-0c37-46ee-b64a-c57d95f1e505",
   "metadata": {},
   "source": [
    "### Criação do Tfid Vectorizer"
   ]
  },
  {
   "cell_type": "code",
   "execution_count": 18,
   "id": "75830a27-75eb-44e9-8aa2-0862d96af4fd",
   "metadata": {},
   "outputs": [],
   "source": [
    "# Criando a matriz TF-IDF\n",
    "#ngram range indica que irá capturar unigramas, bigramas e trigramas\n",
    "tf = TfidfVectorizer(analyzer='word', ngram_range=(1, 3), min_df=0.0, stop_words='english')"
   ]
  },
  {
   "cell_type": "markdown",
   "id": "92bf684a",
   "metadata": {},
   "source": [
    "### Aplicação do KNN"
   ]
  },
  {
   "cell_type": "markdown",
   "id": "9514fff0",
   "metadata": {},
   "source": [
    "#### Tratamento"
   ]
  },
  {
   "cell_type": "code",
   "execution_count": 19,
   "id": "90fb8e9f",
   "metadata": {},
   "outputs": [],
   "source": [
    "tfidf_matrix = tf.fit_transform(dfMeta['CONCATENATED'])"
   ]
  },
  {
   "cell_type": "markdown",
   "id": "2d8092ec",
   "metadata": {},
   "source": [
    "#### Criação da Máquina Preditiva"
   ]
  },
  {
   "cell_type": "code",
   "execution_count": 20,
   "id": "bcae922c",
   "metadata": {},
   "outputs": [
    {
     "data": {
      "text/html": [
       "<style>#sk-container-id-1 {\n",
       "  /* Definition of color scheme common for light and dark mode */\n",
       "  --sklearn-color-text: #000;\n",
       "  --sklearn-color-text-muted: #666;\n",
       "  --sklearn-color-line: gray;\n",
       "  /* Definition of color scheme for unfitted estimators */\n",
       "  --sklearn-color-unfitted-level-0: #fff5e6;\n",
       "  --sklearn-color-unfitted-level-1: #f6e4d2;\n",
       "  --sklearn-color-unfitted-level-2: #ffe0b3;\n",
       "  --sklearn-color-unfitted-level-3: chocolate;\n",
       "  /* Definition of color scheme for fitted estimators */\n",
       "  --sklearn-color-fitted-level-0: #f0f8ff;\n",
       "  --sklearn-color-fitted-level-1: #d4ebff;\n",
       "  --sklearn-color-fitted-level-2: #b3dbfd;\n",
       "  --sklearn-color-fitted-level-3: cornflowerblue;\n",
       "\n",
       "  /* Specific color for light theme */\n",
       "  --sklearn-color-text-on-default-background: var(--sg-text-color, var(--theme-code-foreground, var(--jp-content-font-color1, black)));\n",
       "  --sklearn-color-background: var(--sg-background-color, var(--theme-background, var(--jp-layout-color0, white)));\n",
       "  --sklearn-color-border-box: var(--sg-text-color, var(--theme-code-foreground, var(--jp-content-font-color1, black)));\n",
       "  --sklearn-color-icon: #696969;\n",
       "\n",
       "  @media (prefers-color-scheme: dark) {\n",
       "    /* Redefinition of color scheme for dark theme */\n",
       "    --sklearn-color-text-on-default-background: var(--sg-text-color, var(--theme-code-foreground, var(--jp-content-font-color1, white)));\n",
       "    --sklearn-color-background: var(--sg-background-color, var(--theme-background, var(--jp-layout-color0, #111)));\n",
       "    --sklearn-color-border-box: var(--sg-text-color, var(--theme-code-foreground, var(--jp-content-font-color1, white)));\n",
       "    --sklearn-color-icon: #878787;\n",
       "  }\n",
       "}\n",
       "\n",
       "#sk-container-id-1 {\n",
       "  color: var(--sklearn-color-text);\n",
       "}\n",
       "\n",
       "#sk-container-id-1 pre {\n",
       "  padding: 0;\n",
       "}\n",
       "\n",
       "#sk-container-id-1 input.sk-hidden--visually {\n",
       "  border: 0;\n",
       "  clip: rect(1px 1px 1px 1px);\n",
       "  clip: rect(1px, 1px, 1px, 1px);\n",
       "  height: 1px;\n",
       "  margin: -1px;\n",
       "  overflow: hidden;\n",
       "  padding: 0;\n",
       "  position: absolute;\n",
       "  width: 1px;\n",
       "}\n",
       "\n",
       "#sk-container-id-1 div.sk-dashed-wrapped {\n",
       "  border: 1px dashed var(--sklearn-color-line);\n",
       "  margin: 0 0.4em 0.5em 0.4em;\n",
       "  box-sizing: border-box;\n",
       "  padding-bottom: 0.4em;\n",
       "  background-color: var(--sklearn-color-background);\n",
       "}\n",
       "\n",
       "#sk-container-id-1 div.sk-container {\n",
       "  /* jupyter's `normalize.less` sets `[hidden] { display: none; }`\n",
       "     but bootstrap.min.css set `[hidden] { display: none !important; }`\n",
       "     so we also need the `!important` here to be able to override the\n",
       "     default hidden behavior on the sphinx rendered scikit-learn.org.\n",
       "     See: https://github.com/scikit-learn/scikit-learn/issues/21755 */\n",
       "  display: inline-block !important;\n",
       "  position: relative;\n",
       "}\n",
       "\n",
       "#sk-container-id-1 div.sk-text-repr-fallback {\n",
       "  display: none;\n",
       "}\n",
       "\n",
       "div.sk-parallel-item,\n",
       "div.sk-serial,\n",
       "div.sk-item {\n",
       "  /* draw centered vertical line to link estimators */\n",
       "  background-image: linear-gradient(var(--sklearn-color-text-on-default-background), var(--sklearn-color-text-on-default-background));\n",
       "  background-size: 2px 100%;\n",
       "  background-repeat: no-repeat;\n",
       "  background-position: center center;\n",
       "}\n",
       "\n",
       "/* Parallel-specific style estimator block */\n",
       "\n",
       "#sk-container-id-1 div.sk-parallel-item::after {\n",
       "  content: \"\";\n",
       "  width: 100%;\n",
       "  border-bottom: 2px solid var(--sklearn-color-text-on-default-background);\n",
       "  flex-grow: 1;\n",
       "}\n",
       "\n",
       "#sk-container-id-1 div.sk-parallel {\n",
       "  display: flex;\n",
       "  align-items: stretch;\n",
       "  justify-content: center;\n",
       "  background-color: var(--sklearn-color-background);\n",
       "  position: relative;\n",
       "}\n",
       "\n",
       "#sk-container-id-1 div.sk-parallel-item {\n",
       "  display: flex;\n",
       "  flex-direction: column;\n",
       "}\n",
       "\n",
       "#sk-container-id-1 div.sk-parallel-item:first-child::after {\n",
       "  align-self: flex-end;\n",
       "  width: 50%;\n",
       "}\n",
       "\n",
       "#sk-container-id-1 div.sk-parallel-item:last-child::after {\n",
       "  align-self: flex-start;\n",
       "  width: 50%;\n",
       "}\n",
       "\n",
       "#sk-container-id-1 div.sk-parallel-item:only-child::after {\n",
       "  width: 0;\n",
       "}\n",
       "\n",
       "/* Serial-specific style estimator block */\n",
       "\n",
       "#sk-container-id-1 div.sk-serial {\n",
       "  display: flex;\n",
       "  flex-direction: column;\n",
       "  align-items: center;\n",
       "  background-color: var(--sklearn-color-background);\n",
       "  padding-right: 1em;\n",
       "  padding-left: 1em;\n",
       "}\n",
       "\n",
       "\n",
       "/* Toggleable style: style used for estimator/Pipeline/ColumnTransformer box that is\n",
       "clickable and can be expanded/collapsed.\n",
       "- Pipeline and ColumnTransformer use this feature and define the default style\n",
       "- Estimators will overwrite some part of the style using the `sk-estimator` class\n",
       "*/\n",
       "\n",
       "/* Pipeline and ColumnTransformer style (default) */\n",
       "\n",
       "#sk-container-id-1 div.sk-toggleable {\n",
       "  /* Default theme specific background. It is overwritten whether we have a\n",
       "  specific estimator or a Pipeline/ColumnTransformer */\n",
       "  background-color: var(--sklearn-color-background);\n",
       "}\n",
       "\n",
       "/* Toggleable label */\n",
       "#sk-container-id-1 label.sk-toggleable__label {\n",
       "  cursor: pointer;\n",
       "  display: flex;\n",
       "  width: 100%;\n",
       "  margin-bottom: 0;\n",
       "  padding: 0.5em;\n",
       "  box-sizing: border-box;\n",
       "  text-align: center;\n",
       "  align-items: start;\n",
       "  justify-content: space-between;\n",
       "  gap: 0.5em;\n",
       "}\n",
       "\n",
       "#sk-container-id-1 label.sk-toggleable__label .caption {\n",
       "  font-size: 0.6rem;\n",
       "  font-weight: lighter;\n",
       "  color: var(--sklearn-color-text-muted);\n",
       "}\n",
       "\n",
       "#sk-container-id-1 label.sk-toggleable__label-arrow:before {\n",
       "  /* Arrow on the left of the label */\n",
       "  content: \"▸\";\n",
       "  float: left;\n",
       "  margin-right: 0.25em;\n",
       "  color: var(--sklearn-color-icon);\n",
       "}\n",
       "\n",
       "#sk-container-id-1 label.sk-toggleable__label-arrow:hover:before {\n",
       "  color: var(--sklearn-color-text);\n",
       "}\n",
       "\n",
       "/* Toggleable content - dropdown */\n",
       "\n",
       "#sk-container-id-1 div.sk-toggleable__content {\n",
       "  max-height: 0;\n",
       "  max-width: 0;\n",
       "  overflow: hidden;\n",
       "  text-align: left;\n",
       "  /* unfitted */\n",
       "  background-color: var(--sklearn-color-unfitted-level-0);\n",
       "}\n",
       "\n",
       "#sk-container-id-1 div.sk-toggleable__content.fitted {\n",
       "  /* fitted */\n",
       "  background-color: var(--sklearn-color-fitted-level-0);\n",
       "}\n",
       "\n",
       "#sk-container-id-1 div.sk-toggleable__content pre {\n",
       "  margin: 0.2em;\n",
       "  border-radius: 0.25em;\n",
       "  color: var(--sklearn-color-text);\n",
       "  /* unfitted */\n",
       "  background-color: var(--sklearn-color-unfitted-level-0);\n",
       "}\n",
       "\n",
       "#sk-container-id-1 div.sk-toggleable__content.fitted pre {\n",
       "  /* unfitted */\n",
       "  background-color: var(--sklearn-color-fitted-level-0);\n",
       "}\n",
       "\n",
       "#sk-container-id-1 input.sk-toggleable__control:checked~div.sk-toggleable__content {\n",
       "  /* Expand drop-down */\n",
       "  max-height: 200px;\n",
       "  max-width: 100%;\n",
       "  overflow: auto;\n",
       "}\n",
       "\n",
       "#sk-container-id-1 input.sk-toggleable__control:checked~label.sk-toggleable__label-arrow:before {\n",
       "  content: \"▾\";\n",
       "}\n",
       "\n",
       "/* Pipeline/ColumnTransformer-specific style */\n",
       "\n",
       "#sk-container-id-1 div.sk-label input.sk-toggleable__control:checked~label.sk-toggleable__label {\n",
       "  color: var(--sklearn-color-text);\n",
       "  background-color: var(--sklearn-color-unfitted-level-2);\n",
       "}\n",
       "\n",
       "#sk-container-id-1 div.sk-label.fitted input.sk-toggleable__control:checked~label.sk-toggleable__label {\n",
       "  background-color: var(--sklearn-color-fitted-level-2);\n",
       "}\n",
       "\n",
       "/* Estimator-specific style */\n",
       "\n",
       "/* Colorize estimator box */\n",
       "#sk-container-id-1 div.sk-estimator input.sk-toggleable__control:checked~label.sk-toggleable__label {\n",
       "  /* unfitted */\n",
       "  background-color: var(--sklearn-color-unfitted-level-2);\n",
       "}\n",
       "\n",
       "#sk-container-id-1 div.sk-estimator.fitted input.sk-toggleable__control:checked~label.sk-toggleable__label {\n",
       "  /* fitted */\n",
       "  background-color: var(--sklearn-color-fitted-level-2);\n",
       "}\n",
       "\n",
       "#sk-container-id-1 div.sk-label label.sk-toggleable__label,\n",
       "#sk-container-id-1 div.sk-label label {\n",
       "  /* The background is the default theme color */\n",
       "  color: var(--sklearn-color-text-on-default-background);\n",
       "}\n",
       "\n",
       "/* On hover, darken the color of the background */\n",
       "#sk-container-id-1 div.sk-label:hover label.sk-toggleable__label {\n",
       "  color: var(--sklearn-color-text);\n",
       "  background-color: var(--sklearn-color-unfitted-level-2);\n",
       "}\n",
       "\n",
       "/* Label box, darken color on hover, fitted */\n",
       "#sk-container-id-1 div.sk-label.fitted:hover label.sk-toggleable__label.fitted {\n",
       "  color: var(--sklearn-color-text);\n",
       "  background-color: var(--sklearn-color-fitted-level-2);\n",
       "}\n",
       "\n",
       "/* Estimator label */\n",
       "\n",
       "#sk-container-id-1 div.sk-label label {\n",
       "  font-family: monospace;\n",
       "  font-weight: bold;\n",
       "  display: inline-block;\n",
       "  line-height: 1.2em;\n",
       "}\n",
       "\n",
       "#sk-container-id-1 div.sk-label-container {\n",
       "  text-align: center;\n",
       "}\n",
       "\n",
       "/* Estimator-specific */\n",
       "#sk-container-id-1 div.sk-estimator {\n",
       "  font-family: monospace;\n",
       "  border: 1px dotted var(--sklearn-color-border-box);\n",
       "  border-radius: 0.25em;\n",
       "  box-sizing: border-box;\n",
       "  margin-bottom: 0.5em;\n",
       "  /* unfitted */\n",
       "  background-color: var(--sklearn-color-unfitted-level-0);\n",
       "}\n",
       "\n",
       "#sk-container-id-1 div.sk-estimator.fitted {\n",
       "  /* fitted */\n",
       "  background-color: var(--sklearn-color-fitted-level-0);\n",
       "}\n",
       "\n",
       "/* on hover */\n",
       "#sk-container-id-1 div.sk-estimator:hover {\n",
       "  /* unfitted */\n",
       "  background-color: var(--sklearn-color-unfitted-level-2);\n",
       "}\n",
       "\n",
       "#sk-container-id-1 div.sk-estimator.fitted:hover {\n",
       "  /* fitted */\n",
       "  background-color: var(--sklearn-color-fitted-level-2);\n",
       "}\n",
       "\n",
       "/* Specification for estimator info (e.g. \"i\" and \"?\") */\n",
       "\n",
       "/* Common style for \"i\" and \"?\" */\n",
       "\n",
       ".sk-estimator-doc-link,\n",
       "a:link.sk-estimator-doc-link,\n",
       "a:visited.sk-estimator-doc-link {\n",
       "  float: right;\n",
       "  font-size: smaller;\n",
       "  line-height: 1em;\n",
       "  font-family: monospace;\n",
       "  background-color: var(--sklearn-color-background);\n",
       "  border-radius: 1em;\n",
       "  height: 1em;\n",
       "  width: 1em;\n",
       "  text-decoration: none !important;\n",
       "  margin-left: 0.5em;\n",
       "  text-align: center;\n",
       "  /* unfitted */\n",
       "  border: var(--sklearn-color-unfitted-level-1) 1pt solid;\n",
       "  color: var(--sklearn-color-unfitted-level-1);\n",
       "}\n",
       "\n",
       ".sk-estimator-doc-link.fitted,\n",
       "a:link.sk-estimator-doc-link.fitted,\n",
       "a:visited.sk-estimator-doc-link.fitted {\n",
       "  /* fitted */\n",
       "  border: var(--sklearn-color-fitted-level-1) 1pt solid;\n",
       "  color: var(--sklearn-color-fitted-level-1);\n",
       "}\n",
       "\n",
       "/* On hover */\n",
       "div.sk-estimator:hover .sk-estimator-doc-link:hover,\n",
       ".sk-estimator-doc-link:hover,\n",
       "div.sk-label-container:hover .sk-estimator-doc-link:hover,\n",
       ".sk-estimator-doc-link:hover {\n",
       "  /* unfitted */\n",
       "  background-color: var(--sklearn-color-unfitted-level-3);\n",
       "  color: var(--sklearn-color-background);\n",
       "  text-decoration: none;\n",
       "}\n",
       "\n",
       "div.sk-estimator.fitted:hover .sk-estimator-doc-link.fitted:hover,\n",
       ".sk-estimator-doc-link.fitted:hover,\n",
       "div.sk-label-container:hover .sk-estimator-doc-link.fitted:hover,\n",
       ".sk-estimator-doc-link.fitted:hover {\n",
       "  /* fitted */\n",
       "  background-color: var(--sklearn-color-fitted-level-3);\n",
       "  color: var(--sklearn-color-background);\n",
       "  text-decoration: none;\n",
       "}\n",
       "\n",
       "/* Span, style for the box shown on hovering the info icon */\n",
       ".sk-estimator-doc-link span {\n",
       "  display: none;\n",
       "  z-index: 9999;\n",
       "  position: relative;\n",
       "  font-weight: normal;\n",
       "  right: .2ex;\n",
       "  padding: .5ex;\n",
       "  margin: .5ex;\n",
       "  width: min-content;\n",
       "  min-width: 20ex;\n",
       "  max-width: 50ex;\n",
       "  color: var(--sklearn-color-text);\n",
       "  box-shadow: 2pt 2pt 4pt #999;\n",
       "  /* unfitted */\n",
       "  background: var(--sklearn-color-unfitted-level-0);\n",
       "  border: .5pt solid var(--sklearn-color-unfitted-level-3);\n",
       "}\n",
       "\n",
       ".sk-estimator-doc-link.fitted span {\n",
       "  /* fitted */\n",
       "  background: var(--sklearn-color-fitted-level-0);\n",
       "  border: var(--sklearn-color-fitted-level-3);\n",
       "}\n",
       "\n",
       ".sk-estimator-doc-link:hover span {\n",
       "  display: block;\n",
       "}\n",
       "\n",
       "/* \"?\"-specific style due to the `<a>` HTML tag */\n",
       "\n",
       "#sk-container-id-1 a.estimator_doc_link {\n",
       "  float: right;\n",
       "  font-size: 1rem;\n",
       "  line-height: 1em;\n",
       "  font-family: monospace;\n",
       "  background-color: var(--sklearn-color-background);\n",
       "  border-radius: 1rem;\n",
       "  height: 1rem;\n",
       "  width: 1rem;\n",
       "  text-decoration: none;\n",
       "  /* unfitted */\n",
       "  color: var(--sklearn-color-unfitted-level-1);\n",
       "  border: var(--sklearn-color-unfitted-level-1) 1pt solid;\n",
       "}\n",
       "\n",
       "#sk-container-id-1 a.estimator_doc_link.fitted {\n",
       "  /* fitted */\n",
       "  border: var(--sklearn-color-fitted-level-1) 1pt solid;\n",
       "  color: var(--sklearn-color-fitted-level-1);\n",
       "}\n",
       "\n",
       "/* On hover */\n",
       "#sk-container-id-1 a.estimator_doc_link:hover {\n",
       "  /* unfitted */\n",
       "  background-color: var(--sklearn-color-unfitted-level-3);\n",
       "  color: var(--sklearn-color-background);\n",
       "  text-decoration: none;\n",
       "}\n",
       "\n",
       "#sk-container-id-1 a.estimator_doc_link.fitted:hover {\n",
       "  /* fitted */\n",
       "  background-color: var(--sklearn-color-fitted-level-3);\n",
       "}\n",
       "</style><div id=\"sk-container-id-1\" class=\"sk-top-container\"><div class=\"sk-text-repr-fallback\"><pre>NearestNeighbors(algorithm=&#x27;brute&#x27;, metric=&#x27;cosine&#x27;)</pre><b>In a Jupyter environment, please rerun this cell to show the HTML representation or trust the notebook. <br />On GitHub, the HTML representation is unable to render, please try loading this page with nbviewer.org.</b></div><div class=\"sk-container\" hidden><div class=\"sk-item\"><div class=\"sk-estimator fitted sk-toggleable\"><input class=\"sk-toggleable__control sk-hidden--visually\" id=\"sk-estimator-id-1\" type=\"checkbox\" checked><label for=\"sk-estimator-id-1\" class=\"sk-toggleable__label fitted sk-toggleable__label-arrow\"><div><div>NearestNeighbors</div></div><div><a class=\"sk-estimator-doc-link fitted\" rel=\"noreferrer\" target=\"_blank\" href=\"https://scikit-learn.org/1.6/modules/generated/sklearn.neighbors.NearestNeighbors.html\">?<span>Documentation for NearestNeighbors</span></a><span class=\"sk-estimator-doc-link fitted\">i<span>Fitted</span></span></div></label><div class=\"sk-toggleable__content fitted\"><pre>NearestNeighbors(algorithm=&#x27;brute&#x27;, metric=&#x27;cosine&#x27;)</pre></div> </div></div></div></div>"
      ],
      "text/plain": [
       "NearestNeighbors(algorithm='brute', metric='cosine')"
      ]
     },
     "execution_count": 20,
     "metadata": {},
     "output_type": "execute_result"
    }
   ],
   "source": [
    "# Criando e e treinando o modelo\n",
    "\n",
    "model = NearestNeighbors(metric='cosine', algorithm='brute')\n",
    "model.fit(tfidf_matrix)"
   ]
  },
  {
   "cell_type": "code",
   "execution_count": null,
   "id": "fb09d729",
   "metadata": {},
   "outputs": [],
   "source": [
    "def recommendationWithContentKNN(product, num_of_elements=4):\n",
    "    \n",
    "    try:\n",
    "        \n",
    "        if product is None or product.strip() == \"\":\n",
    "           raise ValueError(\"Forneça um nome de produto válido.\")\n",
    "    \n",
    "        if(product not in dfMeta.index):\n",
    "            print(f\"Produto '{product}' não encontrado.\")\n",
    "            return\n",
    "        \n",
    "        # Recupera o índice da linha correspondente ao título\n",
    "        product_idx = dfMeta.index.get_loc(product)\n",
    "\n",
    "        # Encontra vizinhos mais próximos\n",
    "        distances, sugestions = model.kneighbors(tfidf_matrix[product_idx], n_neighbors=num_of_elements + 1)\n",
    "\n",
    "        print(f\"Produto escolhido: '{product}'\\n\")\n",
    "        print(f\"Top {num_of_elements} recomendações:\")\n",
    "        for i in range(len(sugestions[0])):\n",
    "            suggested_idx = sugestions[0][i]\n",
    "            suggested_title = dfMeta.index[suggested_idx]\n",
    "            \n",
    "            if suggested_title == product:\n",
    "                continue\n",
    "                \n",
    "            print(suggested_title)\n",
    "            # print(f\"Similaridade: {1 - distances[0][i]:.4f}\\n\")\n",
    "            \n",
    "    except ValueError as e:\n",
    "        print(e)"
   ]
  },
  {
   "cell_type": "markdown",
   "id": "a2c8900c",
   "metadata": {},
   "source": [
    "#### Funcionamento"
   ]
  },
  {
   "cell_type": "code",
   "execution_count": 34,
   "id": "5b5296f0",
   "metadata": {},
   "outputs": [
    {
     "name": "stdout",
     "output_type": "stream",
     "text": [
      "Pesquise aqui o produto: rtx 206\n"
     ]
    },
    {
     "name": "stdout",
     "output_type": "stream",
     "text": [
      "PNY GeForce RTX 2060 Super 8GB XLR8 Gaming Overclocked Edition Graphics Card (VCG20608SDFPPB-O)\n",
      "2021 Acer Predator Helios 300 17.3\" FHD IPS 144Hz Premium Gaming Laptop, 10th Gen Intel Core i7-10750H, 16GB RAM, 512GB PCIe SSD, NVIDIA GeForce RTX 2060 6GB GDDR6, RGB Backlit Keyboard, Windows 10\n"
     ]
    }
   ],
   "source": [
    "searchProductName(input('Pesquise aqui o produto:'), 10) "
   ]
  },
  {
   "cell_type": "code",
   "execution_count": 37,
   "id": "a2e45bc8",
   "metadata": {},
   "outputs": [
    {
     "name": "stdout",
     "output_type": "stream",
     "text": [
      "Entre com um produto que tenha gostado:  LEGO Star Wars Poe Dameron's X-Wing Fighter 75273 Building Kit, Cool Construction Toy for Kids, New 2020 (761 Pieces)\n"
     ]
    },
    {
     "name": "stdout",
     "output_type": "stream",
     "text": [
      "Produto escolhido: 'LEGO Star Wars Poe Dameron's X-Wing Fighter 75273 Building Kit, Cool Construction Toy for Kids, New 2020 (761 Pieces)'\n",
      "\n",
      "Top 20 recomendações:\n",
      "IQ Lego Star Wars Poe Dameron LED Head Lamp\n",
      "The Northwest Company Star Wars Han Solo in Carbonite Fleece Throw Blanket 46\" x 60\"\n",
      "STAR WARS The Vintage Collection Bo-Katan Kryze Toy, 3.75-Inch-Scale The Mandalorian Action Figure, Toys for Kids Ages 4 and Up,F4465\n",
      "Star Wars R2D2 Character One Size Fits Most Novelty Leggings\n",
      "Star Wars Speeder Bike With Darth Maul\n",
      "Star Wars Lego 75046 Coruscant Police Gunship\n",
      "Hot Wheels Star Wars Character Car #2\n",
      "We Are the Resistance (Star Wars) (Little Golden Book)\n",
      "Star Wars Rogue One Series Darth Vader 12 Inch Figure\n",
      "Star Wars Darth Vader (11\") Mini Toddler Preschool Backpack (Plush Front)\n",
      "Star Wars Mug - Darth Vader Imperial Porcelain Coffee Cup - 10 oz\n",
      "Funko POP Star Wars: The Mandalorian Action Figure Boba Fett\n",
      "STAR WARS Chewbacca Costume PJ PALS Pajamas for Kids Size 8\n",
      "Bladez Toyz Star Wars Pump & Play Jumbo Inflatable Remote Controlled R2-D2\n",
      "Star Wars 2013 Vintage Collection Vehicle X-Wing Fighter\n",
      "Star Wars Darth Vader Porch Light Cover/Wall Decoration\n",
      "Star Wars: Original Trilogy Collection Holographic Emperor Action Figure\n",
      "Star Wars Yoda Jedi Grand Master Poster Quote PopSockets PopGrip: Swappable Grip for Phones & Tablets\n",
      "Star Wars Logo Neon Yellow In Space PopSockets PopGrip: Swappable Grip for Phones & Tablets\n",
      "Star Wars The Original Marvel Years Omnibus 3\n"
     ]
    }
   ],
   "source": [
    "recommendationWithContentKNN(input('Entre com um produto que tenha gostado: '), 20) "
   ]
  },
  {
   "cell_type": "markdown",
   "id": "317527d0",
   "metadata": {},
   "source": [
    "### Aplicação do linear kernel"
   ]
  },
  {
   "cell_type": "code",
   "execution_count": 18,
   "id": "aeb46c85",
   "metadata": {},
   "outputs": [],
   "source": [
    "# Estouro de memória\n",
    "# cosine_similarities = linear_kernel(tfidf_matrix, tfidf_matrix)"
   ]
  },
  {
   "cell_type": "markdown",
   "id": "ced10a77",
   "metadata": {},
   "source": [
    "#### Tratamento"
   ]
  },
  {
   "cell_type": "code",
   "execution_count": 38,
   "id": "fa5e05cb",
   "metadata": {},
   "outputs": [],
   "source": [
    "# Ajustado conforme RAM disponível\n",
    "dfSample = dfMeta.sample(n=20000, random_state=42)\n",
    "tfidf_matrix = tf.fit_transform(dfSample['CONCATENATED'])"
   ]
  },
  {
   "cell_type": "markdown",
   "id": "a7ba6e18",
   "metadata": {},
   "source": [
    "#### Criação da Máquina Preditiva"
   ]
  },
  {
   "cell_type": "code",
   "execution_count": 39,
   "id": "78930c0a",
   "metadata": {},
   "outputs": [],
   "source": [
    "dfSample = dfMeta.sample(n=20000, random_state=42)\n",
    "tfidf_matrix = tf.fit_transform(dfSample['CONCATENATED'])\n",
    "cosine_similarities = linear_kernel(tfidf_matrix, tfidf_matrix)"
   ]
  },
  {
   "cell_type": "code",
   "execution_count": null,
   "id": "bcb07ba6",
   "metadata": {},
   "outputs": [],
   "source": [
    "def recommendationWithLinearKernel(product, num_of_elements=10):\n",
    "    \n",
    "    try:\n",
    "        \n",
    "        if product is None or product.strip() == \"\":\n",
    "           raise ValueError(\"Forneça um nome de produto válido.\")\n",
    "        \n",
    "        if(product not in dfSample.index):\n",
    "            print(f\"Produto '{product}' não encontrado.\")\n",
    "            return\n",
    "        \n",
    "        recommended_products = []\n",
    "\n",
    "        indices = pd.Series(dfSample.index)\n",
    "        \n",
    "        #obtendo o índice pelo nome\n",
    "        idx = indices[indices == product].index[0]\n",
    "\n",
    "        # criando uma série com as pontuações de similaridade\n",
    "        score_series = pd.Series(cosine_similarities[idx]).sort_values(ascending=False)\n",
    "\n",
    "        # obtendo os índices dos x produtos semelhantes \n",
    "        top_indexes = list(score_series.iloc[1:num_of_elements].index)\n",
    "\n",
    "        # preenchendo a lista com esses produtos\n",
    "        for i in top_indexes:\n",
    "            recommended_products.append(list(dfMeta.index)[i])\n",
    "\n",
    "        # Os imprime\n",
    "        print(f\"Produto escolhido: '{product}'\\n\")\n",
    "        print(f'Top {num_of_elements} recomendações:')\n",
    "        for recommended in recommended_products:\n",
    "            print(recommended)\n",
    "    except Exception as e:\n",
    "        print(e)"
   ]
  },
  {
   "cell_type": "markdown",
   "id": "55a11f35-3797-4dc8-96cd-a2b04c24cb79",
   "metadata": {},
   "source": [
    "#### Funcionamento"
   ]
  },
  {
   "cell_type": "code",
   "execution_count": 53,
   "id": "d3ead205",
   "metadata": {},
   "outputs": [
    {
     "name": "stdout",
     "output_type": "stream",
     "text": [
      "Pesquise aqui o produto: energy\n"
     ]
    },
    {
     "name": "stdout",
     "output_type": "stream",
     "text": [
      "Global Science: Energy, Resources, Environment\n",
      "Optimox Iodoral 12.5 mg - Original High Potency Lugol Solution Iodine Nutritional Supplement - Energy and Thyroid Support - 180 Tablets​\n",
      "Weight Loss Detox Cleanse with Garcinia Cambogia - Energy Metabolism Booster for Weight Management - Ginger Root for Digestive Health - Vegan & Vegetarian Friendly - 14 Servings - Anser by Tia Mowry\n",
      "NICETOWN Kitchen Blackout Curtains and Drapes - Triple Weave Energy Saving Thermal Insulated Solid Grommet Blackout Panels for Patio (1 Pair, 52 inches by 72 Inch, Cappuccino)\n",
      "Sustain Male Supplement - All Natural Stamina Support - Revitalize Strength - Improve Energy Level - Optimize Vitality - Formulated for Men and Women with Active Lifestyle (Trial Pack, 4 Capsules)\n",
      "C4 Smart Energy Drink - Sugar Free Performance Fuel & Nootropic Brain Booster, Coffee Substitute or Alternative | Black Cherry 16 Oz - 12 Pack\n",
      "Jet International Crystal Jet Chakra Chips Bracelet Free Booklet therapy Unique Gift Balancing Positive Energy Aura Gift Reiki Pouch Metaphysical Peace Gift Divine Spiritual Love Harmony Luck\n",
      "The Healing Light of Angels: Transforming Your Past, Present & Future with Divine Energy\n",
      "Herbalife Liftoff-Energy Drink, Ignite-Me Orange, 30 tablets\n",
      "NBA Men's Energy Stripe Cuffed Knit Pom\n"
     ]
    }
   ],
   "source": [
    "searchProductName(input('Pesquise aqui o produto:'), 10, dfSample)"
   ]
  },
  {
   "cell_type": "code",
   "execution_count": 54,
   "id": "877dc639-d6d3-4486-91a5-24d7e5d05da5",
   "metadata": {},
   "outputs": [
    {
     "name": "stdout",
     "output_type": "stream",
     "text": [
      "Entre com um produto que tenha gostado:  C4 Smart Energy Drink - Sugar Free Performance Fuel & Nootropic Brain Booster, Coffee Substitute or Alternative | Black Cherry 16 Oz - 12 Pack\n"
     ]
    },
    {
     "name": "stdout",
     "output_type": "stream",
     "text": [
      "Produto escolhido: 'C4 Smart Energy Drink - Sugar Free Performance Fuel & Nootropic Brain Booster, Coffee Substitute or Alternative | Black Cherry 16 Oz - 12 Pack'\n",
      "\n",
      "Top 15 recomendações:\n",
      "Mod Made Mid Century Modern Bubble Wall Mounted Coat Rack, Multi Color\n",
      "Lionel Logo Christmas Ornaments\n",
      "MOLIMAO Glass Vase for Centerpieces,Modern Large Vase for Flowers,Footprint Shape Striped Bottle for Home,Office Restaurant Desk Decor 8.3 Inch(Blue)\n",
      "Bear Grips Extra Strength Weight Lifting Wrist Wraps | Wrist Straps for Weightlifting Men and Women | Wrist Support Brace for Wrist Pain Relief, Lift More Weight for Bench, Gym, Powerlifting 12\" & 18\"\n",
      "1Storm Motorcycle Modular Flip up Full Face Helmet Shield Chrome Visor: Helmet Model HB89 only\n",
      "The Missings\n",
      "Evolur Ann Beechwood 4-in-1 Highchair | 360 Seat Rotation | Booster seat | Floor Chair | Bar Stool Chair | 5 Point Safety Harness | Blue\n",
      "DecoGlow Harmony 3-Inch by 4-Inch Pillar Candle\n",
      "Bigyonger Women's Round Neck Slim Sleeveless Pleated Maxi Dress Grey\n",
      "Nothing to Be Frightened Of\n",
      "82nd Airborne Division Army American Flag Sticker Decal (5\"x8\")\n",
      "Nature Made Vitamin D3 2000 IU (50 mcg), Dietary Supplement for Bone, Teeth, Muscle and Immune Health Support, 220 Tablets, 220 Day Supply\n",
      "Covercraft UVS100 Custom Sunscreen | UV11284BL | Compatible with Select Cadillac ATS Models, Blue Metallic\n",
      "Terry Pratchett's Discworld Coloring Book\n"
     ]
    }
   ],
   "source": [
    "recommendationWithLinearKernel(input('Entre com um produto que tenha gostado: '), 15)  "
   ]
  }
 ],
 "metadata": {
  "kernelspec": {
   "display_name": "tcc-clean",
   "language": "python",
   "name": "python3"
  },
  "language_info": {
   "codemirror_mode": {
    "name": "ipython",
    "version": 3
   },
   "file_extension": ".py",
   "mimetype": "text/x-python",
   "name": "python",
   "nbconvert_exporter": "python",
   "pygments_lexer": "ipython3",
   "version": "3.11.11"
  }
 },
 "nbformat": 4,
 "nbformat_minor": 5
}
