{
 "cells": [
  {
   "cell_type": "markdown",
   "id": "8ab38c0e",
   "metadata": {},
   "source": [
    "# Dataset Conversor\n",
    "\n",
    "Este notebook tem como objetivo realizar a conversão e descompactação de arquivos no formato `.jsonl.gz`, que foram baixados da web. O processo inclui a padronização dos nomes dos arquivos e a separação entre arquivos de metadados e avaliações, facilitando o uso posterior dos datasets. \n",
    "\n",
    "Configure as pastas de entradas e saída para se adaptar ao seu ambiente."
   ]
  },
  {
   "cell_type": "markdown",
   "id": "e6eb2f2e",
   "metadata": {},
   "source": [
    "## Importação de Bibliotecas Utilizadas"
   ]
  },
  {
   "cell_type": "code",
   "execution_count": 1,
   "id": "0fcec7fa",
   "metadata": {},
   "outputs": [],
   "source": [
    "import os\n",
    "import gzip"
   ]
  },
  {
   "cell_type": "markdown",
   "id": "f37e0fc6",
   "metadata": {},
   "source": [
    "## Declaração de Variáveis"
   ]
  },
  {
   "cell_type": "code",
   "execution_count": 5,
   "id": "d0291452",
   "metadata": {},
   "outputs": [
    {
     "name": "stdout",
     "output_type": "stream",
     "text": [
      "c:\\Users\\everson\\Documents\\Github\\aplicacao-algoritmos-recomendacao\\data\\arquivos_brutos\n",
      "['.placeholder']\n",
      "c:\\Users\\everson\\Documents\\Github\\aplicacao-algoritmos-recomendacao\\data\\datasets_fonte\n",
      "['.placeholder']\n"
     ]
    }
   ],
   "source": [
    "# Caminhos para os arquivo de entrada e o destino de saída\n",
    "pastaArquivoIn = \"../data/arquivos_brutos\"\n",
    "pastaArquivoOut = \"../data/datasets_fonte\""
   ]
  },
  {
   "cell_type": "markdown",
   "id": "dbcb55b9",
   "metadata": {},
   "source": [
    "## Execução"
   ]
  },
  {
   "cell_type": "code",
   "execution_count": null,
   "id": "5ed9298a-66cc-4dae-8757-e99fe9aa4660",
   "metadata": {},
   "outputs": [
    {
     "name": "stdout",
     "output_type": "stream",
     "text": [
      "Arquivo E:\\tcc-everson_martinez\\novos_dataset\\Automotive.jsonl.gz descompactado para E:\\tcc-everson_martinez\\datasets_fonte\\Automotive_ratings.jsonl com sucesso!\n",
      "Arquivo E:\\tcc-everson_martinez\\novos_dataset\\Baby_Products.jsonl.gz descompactado para E:\\tcc-everson_martinez\\datasets_fonte\\Baby_Products_ratings.jsonl com sucesso!\n",
      "Arquivo E:\\tcc-everson_martinez\\novos_dataset\\Books.jsonl.gz descompactado para E:\\tcc-everson_martinez\\datasets_fonte\\Books_ratings.jsonl com sucesso!\n",
      "Arquivo E:\\tcc-everson_martinez\\novos_dataset\\CDs_and_Vinyl.jsonl.gz descompactado para E:\\tcc-everson_martinez\\datasets_fonte\\CDs_and_Vinyl_ratings.jsonl com sucesso!\n",
      "Arquivo E:\\tcc-everson_martinez\\novos_dataset\\Grocery_and_Gourmet_Food.jsonl.gz descompactado para E:\\tcc-everson_martinez\\datasets_fonte\\Grocery_and_Gourmet_Food_ratings.jsonl com sucesso!\n",
      "Arquivo E:\\tcc-everson_martinez\\novos_dataset\\Health_and_Household.jsonl.gz descompactado para E:\\tcc-everson_martinez\\datasets_fonte\\Health_and_Household_ratings.jsonl com sucesso!\n",
      "Arquivo E:\\tcc-everson_martinez\\novos_dataset\\meta_Automotive.jsonl.gz descompactado para E:\\tcc-everson_martinez\\datasets_fonte\\Automotive_meta.jsonl com sucesso!\n",
      "Arquivo E:\\tcc-everson_martinez\\novos_dataset\\meta_Baby_Products.jsonl.gz descompactado para E:\\tcc-everson_martinez\\datasets_fonte\\Baby_Products_meta.jsonl com sucesso!\n",
      "Arquivo E:\\tcc-everson_martinez\\novos_dataset\\meta_Books.jsonl.gz descompactado para E:\\tcc-everson_martinez\\datasets_fonte\\Books_meta.jsonl com sucesso!\n",
      "Arquivo E:\\tcc-everson_martinez\\novos_dataset\\meta_CDs_and_Vinyl.jsonl.gz descompactado para E:\\tcc-everson_martinez\\datasets_fonte\\CDs_and_Vinyl_meta.jsonl com sucesso!\n",
      "Arquivo E:\\tcc-everson_martinez\\novos_dataset\\meta_Grocery_and_Gourmet_Food.jsonl.gz descompactado para E:\\tcc-everson_martinez\\datasets_fonte\\Grocery_and_Gourmet_Food_meta.jsonl com sucesso!\n",
      "Arquivo E:\\tcc-everson_martinez\\novos_dataset\\meta_Health_and_Household.jsonl.gz descompactado para E:\\tcc-everson_martinez\\datasets_fonte\\Health_and_Household_meta.jsonl com sucesso!\n",
      "Arquivo E:\\tcc-everson_martinez\\novos_dataset\\meta_Patio_Lawn_and_Garden.jsonl.gz descompactado para E:\\tcc-everson_martinez\\datasets_fonte\\Patio_Lawn_and_Garden_meta.jsonl com sucesso!\n",
      "Arquivo E:\\tcc-everson_martinez\\novos_dataset\\meta_Pet_Supplies.jsonl.gz descompactado para E:\\tcc-everson_martinez\\datasets_fonte\\Pet_Supplies_meta.jsonl com sucesso!\n",
      "Arquivo E:\\tcc-everson_martinez\\novos_dataset\\meta_Sports_and_Outdoors.jsonl.gz descompactado para E:\\tcc-everson_martinez\\datasets_fonte\\Sports_and_Outdoors_meta.jsonl com sucesso!\n",
      "Arquivo E:\\tcc-everson_martinez\\novos_dataset\\meta_Video_Games.jsonl.gz descompactado para E:\\tcc-everson_martinez\\datasets_fonte\\Video_Games_meta.jsonl com sucesso!\n",
      "Arquivo E:\\tcc-everson_martinez\\novos_dataset\\Patio_Lawn_and_Garden.jsonl.gz descompactado para E:\\tcc-everson_martinez\\datasets_fonte\\Patio_Lawn_and_Garden_ratings.jsonl com sucesso!\n",
      "Arquivo E:\\tcc-everson_martinez\\novos_dataset\\Pet_Supplies.jsonl.gz descompactado para E:\\tcc-everson_martinez\\datasets_fonte\\Pet_Supplies_ratings.jsonl com sucesso!\n",
      "Arquivo E:\\tcc-everson_martinez\\novos_dataset\\Sports_and_Outdoors.jsonl.gz descompactado para E:\\tcc-everson_martinez\\datasets_fonte\\Sports_and_Outdoors_ratings.jsonl com sucesso!\n",
      "Arquivo E:\\tcc-everson_martinez\\novos_dataset\\Video_Games.jsonl.gz descompactado para E:\\tcc-everson_martinez\\datasets_fonte\\Video_Games_ratings.jsonl com sucesso!\n",
      "\n",
      "Conversão concluída!\n"
     ]
    }
   ],
   "source": [
    "# Leitura de todos os arquivos da pasta de entrada, considerando apenas os arquivos .jsonl.gz\n",
    "for jsonl_filename in os.listdir(pastaArquivoIn):\n",
    "    if not jsonl_filename.endswith('.jsonl.gz'):\n",
    "        continue\n",
    "    jsonl_file = os.path.join(pastaArquivoIn, jsonl_filename)\n",
    "    \n",
    "    # Tratamento do nome final para padronização e facilitar identificação. Baseado no nome advindo do site com os datasets Amazon.\n",
    "    outputFileName = os.path.splitext(os.path.splitext(jsonl_filename)[0])[0]\n",
    "    \n",
    "    if \"meta_\" in jsonl_filename:\n",
    "        outputFileName = outputFileName.replace('meta_', '')\n",
    "        outputFileName = outputFileName + \"_meta\"\n",
    "    else:\n",
    "        outputFileName = outputFileName + \"_ratings\"\n",
    "        \n",
    "    outputFileName = outputFileName + \".jsonl\"\n",
    "\n",
    "    # Nome de arquivo de saída baseado no nome padronizado\n",
    "    descompactado_file = os.path.join(pastaArquivoOut, subpastaOut, outputFileName)\n",
    "\n",
    "    # Descompactação dos arquivos para pasta de saída\n",
    "    with gzip.open(jsonl_file, 'rt', encoding='utf-8') as infile, open(descompactado_file, 'w', encoding='utf-8') as outfile:\n",
    "    \n",
    "        for line in infile:\n",
    "            outfile.write(line)\n",
    "    \n",
    "        print(f\"Arquivo {jsonl_file} descompactado para {descompactado_file} com sucesso!\")\n",
    "\n",
    "print(\"\\nConversão concluída!\")"
   ]
  }
 ],
 "metadata": {
  "kernelspec": {
   "display_name": ".venv",
   "language": "python",
   "name": "python3"
  },
  "language_info": {
   "codemirror_mode": {
    "name": "ipython",
    "version": 3
   },
   "file_extension": ".py",
   "mimetype": "text/x-python",
   "name": "python",
   "nbconvert_exporter": "python",
   "pygments_lexer": "ipython3",
   "version": "3.11.9"
  }
 },
 "nbformat": 4,
 "nbformat_minor": 5
}
